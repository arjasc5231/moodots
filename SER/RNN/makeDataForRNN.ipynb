{
  "nbformat": 4,
  "nbformat_minor": 0,
  "metadata": {
    "colab": {
      "name": "makeDataForRNN.ipynb",
      "provenance": [],
      "collapsed_sections": [],
      "include_colab_link": true
    },
    "kernelspec": {
      "name": "python3",
      "display_name": "Python 3"
    },
    "language_info": {
      "name": "python"
    }
  },
  "cells": [
    {
      "cell_type": "markdown",
      "metadata": {
        "id": "view-in-github",
        "colab_type": "text"
      },
      "source": [
        "<a href=\"https://colab.research.google.com/github/arjasc5231/moodots/blob/main/SER/RNN/makeDataForRNN.ipynb\" target=\"_parent\"><img src=\"https://colab.research.google.com/assets/colab-badge.svg\" alt=\"Open In Colab\"/></a>"
      ]
    },
    {
      "cell_type": "code",
      "metadata": {
        "colab": {
          "base_uri": "https://localhost:8080/"
        },
        "id": "osVYavpeTdLf",
        "outputId": "db1b05d7-ae02-4010-b59e-e2800f823ae0"
      },
      "source": [
        "from google.colab import drive\n",
        "drive.mount('/content/drive')"
      ],
      "execution_count": null,
      "outputs": [
        {
          "output_type": "stream",
          "name": "stdout",
          "text": [
            "Mounted at /content/drive\n"
          ]
        }
      ]
    },
    {
      "cell_type": "code",
      "metadata": {
        "id": "9iI8jKgULPV_"
      },
      "source": [
        "import tensorflow as tf\n",
        "from tensorflow import keras\n",
        "from tensorflow.keras.utils import to_categorical\n",
        "import numpy as np\n",
        "import matplotlib.pyplot as plt\n",
        "import os\n",
        "import sklearn as sk\n",
        "import librosa"
      ],
      "execution_count": null,
      "outputs": []
    },
    {
      "cell_type": "code",
      "metadata": {
        "colab": {
          "base_uri": "https://localhost:8080/"
        },
        "id": "Srm3eVVJuJNB",
        "outputId": "50f25591-2399-4c48-e749-8b1e5caefb57"
      },
      "source": [
        "label = {'W':0, 'L':1, 'E':2, 'A':3, 'F':4, 'T':5, 'N':6} # anger,boredom,disgust,fear,happiness,sadness,neutral\n",
        "X = []\n",
        "Y = []\n",
        "root = '/content/drive/MyDrive/team_runner/colab/dataset/emoDB/wave/'\n",
        "for file in os.listdir(root):\n",
        "    y, sr = librosa.load(root+file,sr=None)\n",
        "    y = librosa.resample(y, sr, 8000)\n",
        "    y_label = label[file[5]]\n",
        "    for i in range(0,len(y),5000): #sr과 길이를 각각 절반씩 줄임\n",
        "      if i+5000>len(y): continue\n",
        "      yy = y[i:i+5000]\n",
        "      m=yy.min()\n",
        "      M=yy.max()\n",
        "      for i in range(5000): yy[i]=(yy[i]-m)/(M-m)\n",
        "      X.append(yy)\n",
        "      Y.append(y_label)\n",
        "      \n",
        "X = np.array(X)\n",
        "Y = np.array(Y)\n",
        "\n",
        "print(X.shape)\n",
        "print(Y.shape)"
      ],
      "execution_count": null,
      "outputs": [
        {
          "output_type": "stream",
          "name": "stdout",
          "text": [
            "(2114, 5000)\n",
            "(2114,)\n"
          ]
        }
      ]
    },
    {
      "cell_type": "code",
      "metadata": {
        "id": "dyv0Jdqd3PR_"
      },
      "source": [
        "shuffle_idx = np.arange(X.shape[0])\n",
        "np.random.shuffle(shuffle_idx)\n",
        "\n",
        "X = X[shuffle_idx]\n",
        "Y = Y[shuffle_idx]"
      ],
      "execution_count": null,
      "outputs": []
    },
    {
      "cell_type": "code",
      "metadata": {
        "colab": {
          "base_uri": "https://localhost:8080/"
        },
        "id": "-DJuYXxp3RwY",
        "outputId": "86fa2daf-ef28-4e72-9c24-8b43a0dad048"
      },
      "source": [
        "X_train, X_test, Y_train, Y_test = sk.model_selection.train_test_split(X,Y)\n",
        "XY = (X_train, X_test, Y_train, Y_test)\n",
        "np.save(\"./forRNN_downsamp.npy\", XY)"
      ],
      "execution_count": null,
      "outputs": [
        {
          "output_type": "stream",
          "name": "stderr",
          "text": [
            "/usr/local/lib/python3.7/dist-packages/numpy/core/_asarray.py:136: VisibleDeprecationWarning: Creating an ndarray from ragged nested sequences (which is a list-or-tuple of lists-or-tuples-or ndarrays with different lengths or shapes) is deprecated. If you meant to do this, you must specify 'dtype=object' when creating the ndarray\n",
            "  return array(a, dtype, copy=False, order=order, subok=True)\n"
          ]
        }
      ]
    }
  ]
}