{
  "nbformat": 4,
  "nbformat_minor": 0,
  "metadata": {
    "colab": {
      "name": "CNNonMel_moredropout.ipynb",
      "provenance": [],
      "include_colab_link": true
    },
    "kernelspec": {
      "name": "python3",
      "display_name": "Python 3"
    },
    "language_info": {
      "name": "python"
    },
    "accelerator": "GPU"
  },
  "cells": [
    {
      "cell_type": "markdown",
      "metadata": {
        "id": "view-in-github",
        "colab_type": "text"
      },
      "source": [
        "<a href=\"https://colab.research.google.com/github/arjasc5231/moodots/blob/main/SER/CNN/CNNonMel.ipynb\" target=\"_parent\"><img src=\"https://colab.research.google.com/assets/colab-badge.svg\" alt=\"Open In Colab\"/></a>"
      ]
    },
    {
      "cell_type": "code",
      "metadata": {
        "colab": {
          "base_uri": "https://localhost:8080/"
        },
        "id": "TW28GKXTvAen",
        "outputId": "43891f16-0522-43d6-9779-eeb8fd43e531"
      },
      "source": [
        "from google.colab import drive\n",
        "drive.mount('/content/drive')"
      ],
      "execution_count": null,
      "outputs": [
        {
          "output_type": "stream",
          "name": "stdout",
          "text": [
            "Drive already mounted at /content/drive; to attempt to forcibly remount, call drive.mount(\"/content/drive\", force_remount=True).\n"
          ]
        }
      ]
    },
    {
      "cell_type": "code",
      "metadata": {
        "id": "9iI8jKgULPV_"
      },
      "source": [
        "import tensorflow as tf\n",
        "from tensorflow import keras\n",
        "from tensorflow.keras.utils import to_categorical\n",
        "import numpy as np\n",
        "import matplotlib.pyplot as plt\n",
        "import os"
      ],
      "execution_count": null,
      "outputs": []
    },
    {
      "cell_type": "code",
      "metadata": {
        "id": "dOcuV6s4MEFw"
      },
      "source": [
        "learning_rate = 0.001\n",
        "training_epochs = 60\n",
        "batch_size = 100"
      ],
      "execution_count": null,
      "outputs": []
    },
    {
      "cell_type": "code",
      "metadata": {
        "colab": {
          "base_uri": "https://localhost:8080/"
        },
        "id": "Srm3eVVJuJNB",
        "outputId": "71a24951-a032-445a-8bbc-48799ba0b6f7"
      },
      "source": [
        "mel_X_train, mel_X_test, mel_Y_train, mel_Y_test = np.load(\"/content/drive/MyDrive/team_runner/colab/dataset/emoDB/emo_mel_more.npy\", allow_pickle=True)\n",
        "\n",
        "print(mel_X_train.shape)\n",
        "print(mel_Y_train.shape)\n",
        "print(mel_X_test.shape)\n",
        "print(mel_Y_test.shape)"
      ],
      "execution_count": null,
      "outputs": [
        {
          "output_type": "stream",
          "name": "stdout",
          "text": [
            "(683, 128, 128)\n",
            "(683,)\n",
            "(228, 128, 128)\n",
            "(228,)\n"
          ]
        }
      ]
    },
    {
      "cell_type": "code",
      "metadata": {
        "id": "T50eCGEAyRXu"
      },
      "source": [
        "mel_X_train = np.expand_dims(mel_X_train, axis=-1)\n",
        "mel_X_test = np.expand_dims(mel_X_test, axis=-1)\n",
        "\n",
        "mel_Y_train = to_categorical(mel_Y_train, 7)\n",
        "mel_Y_test = to_categorical(mel_Y_test, 7)    \n",
        "\n",
        "mel_train_dataset = tf.data.Dataset.from_tensor_slices((mel_X_train, mel_Y_train)).shuffle(\n",
        "                buffer_size=100000).batch(batch_size)\n",
        "mel_test_dataset = tf.data.Dataset.from_tensor_slices((mel_X_test, mel_Y_test)).batch(batch_size)\n"
      ],
      "execution_count": null,
      "outputs": []
    },
    {
      "cell_type": "code",
      "metadata": {
        "id": "Q6Uu2gRdyUep"
      },
      "source": [
        "def create_model():\n",
        "    model = keras.Sequential()\n",
        "    model.add(keras.layers.Conv2D(filters=32, kernel_size=3, activation=tf.nn.relu, padding='SAME', \n",
        "                                  input_shape=(128, 128, 1)))\n",
        "    model.add(keras.layers.MaxPool2D(padding='SAME'))\n",
        "    model.add(keras.layers.Conv2D(filters=64, kernel_size=3, activation=tf.nn.relu, padding='SAME'))\n",
        "    model.add(keras.layers.MaxPool2D(padding='SAME'))\n",
        "    model.add(keras.layers.Conv2D(filters=128, kernel_size=3, activation=tf.nn.relu, padding='SAME'))\n",
        "    model.add(keras.layers.MaxPool2D(padding='SAME'))\n",
        "    model.add(keras.layers.Flatten())\n",
        "    model.add(keras.layers.Dense(256, activation=tf.nn.relu))\n",
        "    model.add(keras.layers.Dropout(0.5))\n",
        "    model.add(keras.layers.Dense(128, activation=tf.nn.relu))\n",
        "    model.add(keras.layers.Dropout(0.5))\n",
        "    model.add(keras.layers.Dense(64, activation=tf.nn.relu))\n",
        "    model.add(keras.layers.Dropout(0.5))\n",
        "    model.add(keras.layers.Dense(7))\n",
        "    return model"
      ],
      "execution_count": null,
      "outputs": []
    },
    {
      "cell_type": "code",
      "metadata": {
        "colab": {
          "base_uri": "https://localhost:8080/"
        },
        "id": "IIxR_4KLyXAe",
        "outputId": "87492915-47ba-48c6-80f3-067b98e41ff4"
      },
      "source": [
        "model = create_model()\n",
        "model.summary()"
      ],
      "execution_count": null,
      "outputs": [
        {
          "output_type": "stream",
          "name": "stdout",
          "text": [
            "Model: \"sequential\"\n",
            "_________________________________________________________________\n",
            "Layer (type)                 Output Shape              Param #   \n",
            "=================================================================\n",
            "conv2d (Conv2D)              (None, 128, 128, 32)      320       \n",
            "_________________________________________________________________\n",
            "max_pooling2d (MaxPooling2D) (None, 64, 64, 32)        0         \n",
            "_________________________________________________________________\n",
            "conv2d_1 (Conv2D)            (None, 64, 64, 64)        18496     \n",
            "_________________________________________________________________\n",
            "max_pooling2d_1 (MaxPooling2 (None, 32, 32, 64)        0         \n",
            "_________________________________________________________________\n",
            "conv2d_2 (Conv2D)            (None, 32, 32, 128)       73856     \n",
            "_________________________________________________________________\n",
            "max_pooling2d_2 (MaxPooling2 (None, 16, 16, 128)       0         \n",
            "_________________________________________________________________\n",
            "flatten (Flatten)            (None, 32768)             0         \n",
            "_________________________________________________________________\n",
            "dense (Dense)                (None, 256)               8388864   \n",
            "_________________________________________________________________\n",
            "dropout (Dropout)            (None, 256)               0         \n",
            "_________________________________________________________________\n",
            "dense_1 (Dense)              (None, 128)               32896     \n",
            "_________________________________________________________________\n",
            "dropout_1 (Dropout)          (None, 128)               0         \n",
            "_________________________________________________________________\n",
            "dense_2 (Dense)              (None, 64)                8256      \n",
            "_________________________________________________________________\n",
            "dropout_2 (Dropout)          (None, 64)                0         \n",
            "_________________________________________________________________\n",
            "dense_3 (Dense)              (None, 7)                 455       \n",
            "=================================================================\n",
            "Total params: 8,523,143\n",
            "Trainable params: 8,523,143\n",
            "Non-trainable params: 0\n",
            "_________________________________________________________________\n"
          ]
        }
      ]
    },
    {
      "cell_type": "code",
      "metadata": {
        "id": "e-0PiEFdyY7T"
      },
      "source": [
        "def loss_fn(model, images, labels):\n",
        "    logits = model(images, training=True)\n",
        "    loss = tf.reduce_mean(tf.keras.losses.categorical_crossentropy(\n",
        "        y_pred=logits, y_true=labels, from_logits=True))    \n",
        "    return loss"
      ],
      "execution_count": null,
      "outputs": []
    },
    {
      "cell_type": "code",
      "metadata": {
        "id": "W5x6EkHUybJv"
      },
      "source": [
        "def grad(model, images, labels):\n",
        "    with tf.GradientTape() as tape:\n",
        "        loss = loss_fn(model, images, labels)\n",
        "    return tape.gradient(loss, model.variables)"
      ],
      "execution_count": null,
      "outputs": []
    },
    {
      "cell_type": "code",
      "metadata": {
        "id": "v7AdZJecycsD"
      },
      "source": [
        "def evaluate(model, images, labels):\n",
        "    logits = model(images, training=False)\n",
        "    correct_prediction = tf.equal(tf.argmax(logits, 1), tf.argmax(labels, 1))\n",
        "    accuracy = tf.reduce_mean(tf.cast(correct_prediction, tf.float32))\n",
        "    return accuracy"
      ],
      "execution_count": null,
      "outputs": []
    },
    {
      "cell_type": "code",
      "metadata": {
        "id": "sQEPnkEpyfHP"
      },
      "source": [
        "optimizer = tf.optimizers.Adam(learning_rate=learning_rate)"
      ],
      "execution_count": null,
      "outputs": []
    },
    {
      "cell_type": "code",
      "metadata": {
        "colab": {
          "base_uri": "https://localhost:8080/"
        },
        "id": "LDbPf0WtygoC",
        "outputId": "5c5081da-bf36-447c-ad09-c752d2957a0c"
      },
      "source": [
        "print('Learning started. It takes sometime.')\n",
        "for epoch in range(training_epochs):\n",
        "    avg_loss = 0.\n",
        "    avg_train_acc = 0.\n",
        "    avg_test_acc = 0.\n",
        "    train_step = 0\n",
        "    test_step = 0\n",
        "    \n",
        "    for images, labels in mel_train_dataset:\n",
        "        grads = grad(model, images, labels)                \n",
        "        optimizer.apply_gradients(zip(grads, model.variables))\n",
        "        loss = loss_fn(model, images, labels)\n",
        "        acc = evaluate(model, images, labels)\n",
        "        avg_loss = avg_loss + loss\n",
        "        avg_train_acc = avg_train_acc + acc\n",
        "        train_step += 1\n",
        "    avg_loss = avg_loss / train_step\n",
        "    avg_train_acc = avg_train_acc / train_step\n",
        "    \n",
        "    for images, labels in mel_test_dataset:        \n",
        "        acc = evaluate(model, images, labels)        \n",
        "        avg_test_acc = avg_test_acc + acc\n",
        "        test_step += 1    \n",
        "    avg_test_acc = avg_test_acc / test_step    \n",
        "\n",
        "    print('Epoch:', '{}'.format(epoch + 1), 'loss =', '{:.8f}'.format(avg_loss), \n",
        "          'train accuracy = ', '{:.4f}'.format(avg_train_acc), \n",
        "          'test accuracy = ', '{:.4f}'.format(avg_test_acc))\n",
        "\n",
        "print('Learning Finished!')\n",
        "# 30epoch에 1분30초정도"
      ],
      "execution_count": null,
      "outputs": [
        {
          "output_type": "stream",
          "name": "stdout",
          "text": [
            "Learning started. It takes sometime.\n",
            "Epoch: 1 loss = 0.16973622 train accuracy =  0.9971 test accuracy =  0.6848\n",
            "Epoch: 2 loss = 0.23984982 train accuracy =  0.9971 test accuracy =  0.6562\n",
            "Epoch: 3 loss = 0.19089524 train accuracy =  0.9971 test accuracy =  0.6595\n",
            "Epoch: 4 loss = 0.21080469 train accuracy =  0.9969 test accuracy =  0.6343\n",
            "Epoch: 5 loss = 0.17272674 train accuracy =  0.9971 test accuracy =  0.6681\n",
            "Epoch: 6 loss = 0.20543964 train accuracy =  1.0000 test accuracy =  0.6543\n",
            "Epoch: 7 loss = 0.15236938 train accuracy =  1.0000 test accuracy =  0.7067\n",
            "Epoch: 8 loss = 0.18062575 train accuracy =  0.9971 test accuracy =  0.6476\n",
            "Epoch: 9 loss = 0.16333485 train accuracy =  1.0000 test accuracy =  0.6510\n",
            "Epoch: 10 loss = 0.18287703 train accuracy =  0.9986 test accuracy =  0.6095\n",
            "Epoch: 11 loss = 0.20058240 train accuracy =  0.9986 test accuracy =  0.6376\n",
            "Epoch: 12 loss = 0.21004178 train accuracy =  0.9986 test accuracy =  0.6429\n",
            "Epoch: 13 loss = 0.15400670 train accuracy =  0.9969 test accuracy =  0.6695\n",
            "Epoch: 14 loss = 0.18997021 train accuracy =  0.9971 test accuracy =  0.6833\n",
            "Epoch: 15 loss = 0.18490233 train accuracy =  0.9969 test accuracy =  0.6667\n",
            "Epoch: 16 loss = 0.20354973 train accuracy =  0.9971 test accuracy =  0.6714\n",
            "Epoch: 17 loss = 0.14904453 train accuracy =  1.0000 test accuracy =  0.6881\n",
            "Epoch: 18 loss = 0.17878936 train accuracy =  1.0000 test accuracy =  0.6395\n",
            "Epoch: 19 loss = 0.20479755 train accuracy =  1.0000 test accuracy =  0.6390\n",
            "Epoch: 20 loss = 0.15659508 train accuracy =  1.0000 test accuracy =  0.6357\n",
            "Epoch: 21 loss = 0.14470032 train accuracy =  1.0000 test accuracy =  0.6595\n",
            "Epoch: 22 loss = 0.20519686 train accuracy =  1.0000 test accuracy =  0.6257\n",
            "Epoch: 23 loss = 0.13658515 train accuracy =  1.0000 test accuracy =  0.6429\n",
            "Epoch: 24 loss = 0.15688302 train accuracy =  1.0000 test accuracy =  0.6171\n",
            "Epoch: 25 loss = 0.14437674 train accuracy =  0.9971 test accuracy =  0.7000\n",
            "Epoch: 26 loss = 0.16460271 train accuracy =  1.0000 test accuracy =  0.6881\n",
            "Epoch: 27 loss = 0.15622105 train accuracy =  1.0000 test accuracy =  0.6576\n",
            "Epoch: 28 loss = 0.14658752 train accuracy =  1.0000 test accuracy =  0.6543\n",
            "Epoch: 29 loss = 0.17118637 train accuracy =  1.0000 test accuracy =  0.6543\n",
            "Epoch: 30 loss = 0.14686179 train accuracy =  1.0000 test accuracy =  0.6576\n",
            "Epoch: 31 loss = 0.17003405 train accuracy =  0.9986 test accuracy =  0.6019\n",
            "Epoch: 32 loss = 0.16744457 train accuracy =  0.9971 test accuracy =  0.6852\n",
            "Epoch: 33 loss = 0.18148708 train accuracy =  1.0000 test accuracy =  0.6529\n",
            "Epoch: 34 loss = 0.15901652 train accuracy =  1.0000 test accuracy =  0.7105\n",
            "Epoch: 35 loss = 0.15223721 train accuracy =  1.0000 test accuracy =  0.6833\n",
            "Epoch: 36 loss = 0.12250270 train accuracy =  1.0000 test accuracy =  0.6124\n",
            "Epoch: 37 loss = 0.15549235 train accuracy =  1.0000 test accuracy =  0.6581\n",
            "Epoch: 38 loss = 0.15359433 train accuracy =  1.0000 test accuracy =  0.6324\n",
            "Epoch: 39 loss = 0.14739314 train accuracy =  1.0000 test accuracy =  0.6562\n",
            "Epoch: 40 loss = 0.15699042 train accuracy =  1.0000 test accuracy =  0.6576\n",
            "Epoch: 41 loss = 0.12872733 train accuracy =  0.9986 test accuracy =  0.6662\n",
            "Epoch: 42 loss = 0.13419627 train accuracy =  1.0000 test accuracy =  0.6562\n",
            "Epoch: 43 loss = 0.19245239 train accuracy =  1.0000 test accuracy =  0.6424\n",
            "Epoch: 44 loss = 0.16605613 train accuracy =  1.0000 test accuracy =  0.6510\n",
            "Epoch: 45 loss = 0.10481502 train accuracy =  1.0000 test accuracy =  0.6914\n",
            "Epoch: 46 loss = 0.12890342 train accuracy =  1.0000 test accuracy =  0.6681\n",
            "Epoch: 47 loss = 0.14899316 train accuracy =  0.9971 test accuracy =  0.6781\n",
            "Epoch: 48 loss = 0.13403530 train accuracy =  0.9986 test accuracy =  0.6629\n",
            "Epoch: 49 loss = 0.12804925 train accuracy =  1.0000 test accuracy =  0.6276\n",
            "Epoch: 50 loss = 0.18937115 train accuracy =  1.0000 test accuracy =  0.6310\n",
            "Epoch: 51 loss = 0.13042922 train accuracy =  1.0000 test accuracy =  0.6514\n",
            "Epoch: 52 loss = 0.12224311 train accuracy =  0.9983 test accuracy =  0.6695\n",
            "Epoch: 53 loss = 0.17709360 train accuracy =  1.0000 test accuracy =  0.5838\n",
            "Epoch: 54 loss = 0.19870269 train accuracy =  0.9971 test accuracy =  0.6410\n",
            "Epoch: 55 loss = 0.13339862 train accuracy =  0.9969 test accuracy =  0.6614\n",
            "Epoch: 56 loss = 0.15000990 train accuracy =  0.9971 test accuracy =  0.6448\n",
            "Epoch: 57 loss = 0.10415326 train accuracy =  0.9971 test accuracy =  0.6648\n",
            "Epoch: 58 loss = 0.13303228 train accuracy =  0.9971 test accuracy =  0.6952\n",
            "Epoch: 59 loss = 0.18119454 train accuracy =  0.9966 test accuracy =  0.6762\n",
            "Epoch: 60 loss = 0.13567732 train accuracy =  0.9971 test accuracy =  0.6390\n",
            "Learning Finished!\n"
          ]
        }
      ]
    },
    {
      "cell_type": "code",
      "metadata": {
        "id": "jHnz_IrJykNN",
        "colab": {
          "base_uri": "https://localhost:8080/"
        },
        "outputId": "97e3e6fa-12bd-4c4e-e2e0-7384ce3ea6bb"
      },
      "source": [
        "conf_mat = [[0]*7 for i in range(7)] #mat[real_label]=predicted_label list\n",
        "\n",
        "for images, labels in mel_test_dataset:\n",
        "  logits = model(images, training=False)\n",
        "  logits_max = tf.math.argmax(logits,1)\n",
        "  labels_max = tf.math.argmax(labels,1)\n",
        "  for i in range(len(logits)): conf_mat[logits_max[i]][labels_max[i]]+=1\n",
        "\n",
        "for i in range(7): print(conf_mat[i])"
      ],
      "execution_count": null,
      "outputs": [
        {
          "output_type": "stream",
          "name": "stdout",
          "text": [
            "[49, 1, 2, 3, 12, 0, 0]\n",
            "[0, 27, 0, 0, 1, 5, 4]\n",
            "[1, 4, 21, 1, 3, 0, 0]\n",
            "[2, 3, 0, 3, 0, 0, 0]\n",
            "[0, 0, 0, 3, 9, 0, 3]\n",
            "[0, 3, 1, 2, 2, 33, 1]\n",
            "[1, 4, 1, 4, 1, 0, 18]\n"
          ]
        }
      ]
    },
    {
      "cell_type": "code",
      "metadata": {
        "colab": {
          "base_uri": "https://localhost:8080/"
        },
        "id": "uRQFL0_RYqVU",
        "outputId": "411201e0-d2b5-43d6-ae43-5674aa5c5a31"
      },
      "source": [
        "conf_mat_normal = []\n",
        "for i in range(7):\n",
        "  s = sum(conf_mat[i])\n",
        "  conf_mat_normal.append(list(map(lambda x:(x/s)*100, conf_mat[i])))\n",
        "\n",
        "label = ['anger','boredom','disgust','fear','happy','sad','neutral']\n",
        "print('\\t'+'\\t'.join(label))\n",
        "for i in range(7):\n",
        "  print(label[i], end='')\n",
        "  for j in range(7): print('\\t%2.0f'%conf_mat_normal[i][j], end=' ')\n",
        "  print()\n",
        "# fear의 데이터가 8개밖에 없다. -> kfold해봄"
      ],
      "execution_count": null,
      "outputs": [
        {
          "output_type": "stream",
          "name": "stdout",
          "text": [
            "\tanger\tboredom\tdisgust\tfear\thappy\tsad\tneutral\n",
            "anger\t73 \t 1 \t 3 \t 4 \t18 \t 0 \t 0 \n",
            "boredom\t 0 \t73 \t 0 \t 0 \t 3 \t14 \t11 \n",
            "disgust\t 3 \t13 \t70 \t 3 \t10 \t 0 \t 0 \n",
            "fear\t25 \t38 \t 0 \t38 \t 0 \t 0 \t 0 \n",
            "happy\t 0 \t 0 \t 0 \t20 \t60 \t 0 \t20 \n",
            "sad\t 0 \t 7 \t 2 \t 5 \t 5 \t79 \t 2 \n",
            "neutral\t 3 \t14 \t 3 \t14 \t 3 \t 0 \t62 \n"
          ]
        }
      ]
    }
  ]
}