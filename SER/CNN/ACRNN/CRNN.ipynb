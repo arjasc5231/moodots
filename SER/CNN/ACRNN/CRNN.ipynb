{
  "nbformat": 4,
  "nbformat_minor": 0,
  "metadata": {
    "colab": {
      "name": "CRNN.ipynb",
      "provenance": [],
      "collapsed_sections": [],
      "mount_file_id": "1VjB9HvfUA13Yt9QTVpbu_wQ4lMiSSenH",
      "authorship_tag": "ABX9TyO6FgGLHuJvuEycYMLvjG6j",
      "include_colab_link": true
    },
    "kernelspec": {
      "name": "python3",
      "display_name": "Python 3"
    },
    "language_info": {
      "name": "python"
    },
    "accelerator": "GPU"
  },
  "cells": [
    {
      "cell_type": "markdown",
      "metadata": {
        "id": "view-in-github",
        "colab_type": "text"
      },
      "source": [
        "<a href=\"https://colab.research.google.com/github/arjasc5231/moodots/blob/ACRNN/SER/CNN/CRNN.ipynb\" target=\"_parent\"><img src=\"https://colab.research.google.com/assets/colab-badge.svg\" alt=\"Open In Colab\"/></a>"
      ]
    },
    {
      "cell_type": "code",
      "metadata": {
        "id": "9iI8jKgULPV_"
      },
      "source": [
        "import tensorflow as tf\n",
        "from tensorflow import keras\n",
        "from tensorflow.keras.utils import to_categorical\n",
        "import numpy as np\n",
        "import matplotlib.pyplot as plt\n",
        "import os"
      ],
      "execution_count": 1,
      "outputs": []
    },
    {
      "cell_type": "code",
      "metadata": {
        "id": "dOcuV6s4MEFw"
      },
      "source": [
        "learning_rate = 0.001\n",
        "training_epochs = 60\n",
        "batch_size = 100"
      ],
      "execution_count": 2,
      "outputs": []
    },
    {
      "cell_type": "code",
      "metadata": {
        "colab": {
          "base_uri": "https://localhost:8080/"
        },
        "id": "Srm3eVVJuJNB",
        "outputId": "5ad296f0-b470-46e2-bff3-f3a6777c1f88"
      },
      "source": [
        "mel_X_train, mel_X_test, mel_Y_train, mel_Y_test = np.load(\"/content/drive/MyDrive/team_runner/colab/dataset/emoDB/emo_mel_more.npy\", allow_pickle=True)\n",
        "\n",
        "print(mel_X_train.shape)\n",
        "print(mel_Y_train.shape)\n",
        "print(mel_X_test.shape)\n",
        "print(mel_Y_test.shape)"
      ],
      "execution_count": 3,
      "outputs": [
        {
          "output_type": "stream",
          "name": "stdout",
          "text": [
            "(683, 128, 128)\n",
            "(683,)\n",
            "(228, 128, 128)\n",
            "(228,)\n"
          ]
        }
      ]
    },
    {
      "cell_type": "code",
      "metadata": {
        "id": "T50eCGEAyRXu"
      },
      "source": [
        "mel_X_train = np.expand_dims(mel_X_train, axis=-1)\n",
        "mel_X_test = np.expand_dims(mel_X_test, axis=-1)\n",
        "\n",
        "mel_Y_train = to_categorical(mel_Y_train, 7)\n",
        "mel_Y_test = to_categorical(mel_Y_test, 7)    \n",
        "\n",
        "mel_train_dataset = tf.data.Dataset.from_tensor_slices((mel_X_train, mel_Y_train)).batch(batch_size)\n",
        "mel_test_dataset = tf.data.Dataset.from_tensor_slices((mel_X_test, mel_Y_test)).batch(batch_size)"
      ],
      "execution_count": 4,
      "outputs": []
    },
    {
      "cell_type": "code",
      "metadata": {
        "id": "Q6Uu2gRdyUep"
      },
      "source": [
        "# 일단 매우매우 얕게 만들었음\n",
        "def create_model():\n",
        "    inputs = keras.Input(shape=(128, 128, 1))\n",
        "    conv1 = keras.layers.Conv2D(filters=32, kernel_size=[3, 3], activation=tf.nn.relu)(inputs)\n",
        "    pool1 = keras.layers.MaxPool2D(padding='SAME')(conv1)\n",
        "    conv2 = keras.layers.Conv2D(filters=64, kernel_size=[3, 3], activation=tf.nn.relu)(pool1)\n",
        "    pool2 = keras.layers.MaxPool2D(padding='SAME')(conv2)\n",
        "    conv3 = keras.layers.Conv2D(filters=128, kernel_size=[3, 3], activation=tf.nn.relu)(pool2)\n",
        "    pool3 = keras.layers.MaxPool2D(padding='SAME')(conv3)\n",
        "\n",
        "    trans = keras.layers.Permute((2,1,3))(pool3)\n",
        "    reshape = keras.layers.Reshape((-1, 15*128))(trans) # 열 개수(freq축)*ch\n",
        "    lstm = keras.layers.Bidirectional(keras.layers.LSTM(128, return_sequences=False, dropout=0.5))(reshape)  #dropout을 바꿔도 큰 영향은 없는듯. 대부분 65%\n",
        "    \n",
        "    fc = keras.layers.Dense(7)(lstm)\n",
        "    return keras.Model(inputs=inputs, outputs=fc)"
      ],
      "execution_count": 38,
      "outputs": []
    },
    {
      "cell_type": "code",
      "metadata": {
        "colab": {
          "base_uri": "https://localhost:8080/"
        },
        "id": "IIxR_4KLyXAe",
        "outputId": "a27f804c-5abf-49ed-ff8d-52c9dbc1d2df"
      },
      "source": [
        "model = create_model()\n",
        "model.summary()"
      ],
      "execution_count": 40,
      "outputs": [
        {
          "output_type": "stream",
          "name": "stdout",
          "text": [
            "Model: \"model_8\"\n",
            "_________________________________________________________________\n",
            "Layer (type)                 Output Shape              Param #   \n",
            "=================================================================\n",
            "input_13 (InputLayer)        [(None, 128, 128, 1)]     0         \n",
            "_________________________________________________________________\n",
            "conv2d_36 (Conv2D)           (None, 126, 126, 32)      320       \n",
            "_________________________________________________________________\n",
            "max_pooling2d_36 (MaxPooling (None, 63, 63, 32)        0         \n",
            "_________________________________________________________________\n",
            "conv2d_37 (Conv2D)           (None, 61, 61, 64)        18496     \n",
            "_________________________________________________________________\n",
            "max_pooling2d_37 (MaxPooling (None, 31, 31, 64)        0         \n",
            "_________________________________________________________________\n",
            "conv2d_38 (Conv2D)           (None, 29, 29, 128)       73856     \n",
            "_________________________________________________________________\n",
            "max_pooling2d_38 (MaxPooling (None, 15, 15, 128)       0         \n",
            "_________________________________________________________________\n",
            "permute_11 (Permute)         (None, 15, 15, 128)       0         \n",
            "_________________________________________________________________\n",
            "reshape_11 (Reshape)         (None, 15, 1920)          0         \n",
            "_________________________________________________________________\n",
            "bidirectional_10 (Bidirectio (None, 256)               2098176   \n",
            "_________________________________________________________________\n",
            "dense_8 (Dense)              (None, 7)                 1799      \n",
            "=================================================================\n",
            "Total params: 2,192,647\n",
            "Trainable params: 2,192,647\n",
            "Non-trainable params: 0\n",
            "_________________________________________________________________\n"
          ]
        }
      ]
    },
    {
      "cell_type": "code",
      "metadata": {
        "id": "e-0PiEFdyY7T"
      },
      "source": [
        "def loss_fn(model, images, labels):\n",
        "    logits = model(images, training=True)\n",
        "    loss = tf.reduce_mean(tf.keras.losses.categorical_crossentropy(y_pred=logits, y_true=labels, from_logits=True))    \n",
        "    return loss"
      ],
      "execution_count": 27,
      "outputs": []
    },
    {
      "cell_type": "code",
      "metadata": {
        "id": "W5x6EkHUybJv"
      },
      "source": [
        "def grad(model, images, labels):\n",
        "    with tf.GradientTape() as tape:\n",
        "        loss = loss_fn(model, images, labels)\n",
        "    return tape.gradient(loss, model.variables)"
      ],
      "execution_count": 28,
      "outputs": []
    },
    {
      "cell_type": "code",
      "metadata": {
        "id": "v7AdZJecycsD"
      },
      "source": [
        "def evaluate(model, images, labels):\n",
        "    logits = model(images, training=False)\n",
        "    correct_prediction = tf.equal(tf.argmax(logits, 1), tf.argmax(labels, 1))\n",
        "    accuracy = tf.reduce_mean(tf.cast(correct_prediction, tf.float32))\n",
        "    return accuracy"
      ],
      "execution_count": 29,
      "outputs": []
    },
    {
      "cell_type": "code",
      "metadata": {
        "id": "sQEPnkEpyfHP"
      },
      "source": [
        "optimizer = tf.optimizers.Adam(learning_rate=learning_rate)"
      ],
      "execution_count": 30,
      "outputs": []
    },
    {
      "cell_type": "code",
      "metadata": {
        "colab": {
          "base_uri": "https://localhost:8080/"
        },
        "id": "LDbPf0WtygoC",
        "outputId": "1900442a-7ec1-46f0-f507-37cace019de6"
      },
      "source": [
        "print('Learning started. It takes sometime.')\n",
        "print('Epoch\\tloss\\t\\ttrain acc\\ttest acc')\n",
        "for epoch in range(training_epochs):\n",
        "    loss = 0.\n",
        "    train_acc = 0.\n",
        "    test_acc = 0.\n",
        "    \n",
        "    for images, labels in mel_train_dataset:\n",
        "        grads = grad(model, images, labels)                \n",
        "        optimizer.apply_gradients(zip(grads, model.variables)) \n",
        "        loss += loss_fn(model, images, labels)\n",
        "        train_acc += evaluate(model, images, labels)\n",
        "    loss = loss / len(mel_train_dataset)\n",
        "    train_acc = train_acc / len(mel_train_dataset)\n",
        "    \n",
        "    for images, labels in mel_test_dataset:\n",
        "        test_acc += evaluate(model, images, labels)\n",
        "    test_acc = test_acc / len(mel_test_dataset)  \n",
        "\n",
        "    print('{}  \\t{:.4f}  \\t{:.4f}  \\t{:.4f}'.format(epoch+1, loss, train_acc, test_acc))\n",
        "\n",
        "print('Learning Finished!')\n",
        "#5분정도 소요"
      ],
      "execution_count": 41,
      "outputs": [
        {
          "output_type": "stream",
          "name": "stdout",
          "text": [
            "Learning started. It takes sometime.\n",
            "Epoch\tloss\t\ttrain acc\ttest acc\n",
            "1  \t1.9219  \t0.2233  \t0.2200\n",
            "2  \t1.8968  \t0.2390  \t0.2200\n",
            "3  \t1.8497  \t0.2987  \t0.2652\n",
            "4  \t1.8890  \t0.2361  \t0.2200\n",
            "5  \t1.7852  \t0.2599  \t0.2981\n",
            "6  \t1.6515  \t0.3671  \t0.3652\n",
            "7  \t1.4478  \t0.4512  \t0.3800\n",
            "8  \t1.3053  \t0.4691  \t0.4395\n",
            "9  \t1.2054  \t0.5290  \t0.4967\n",
            "10  \t1.1388  \t0.5509  \t0.4900\n",
            "11  \t1.0952  \t0.5798  \t0.4867\n",
            "12  \t1.0416  \t0.5986  \t0.5200\n",
            "13  \t0.9493  \t0.6335  \t0.4910\n",
            "14  \t0.9079  \t0.6307  \t0.5990\n",
            "15  \t0.8748  \t0.6692  \t0.5600\n",
            "16  \t0.8160  \t0.7041  \t0.5633\n",
            "17  \t0.7553  \t0.7141  \t0.5519\n",
            "18  \t0.7815  \t0.7158  \t0.4781\n",
            "19  \t0.7171  \t0.7422  \t0.6276\n",
            "20  \t0.6364  \t0.7710  \t0.6019\n",
            "21  \t0.5879  \t0.7948  \t0.5648\n",
            "22  \t0.5770  \t0.7976  \t0.6124\n",
            "23  \t0.5373  \t0.8245  \t0.6005\n",
            "24  \t0.4798  \t0.8517  \t0.5733\n",
            "25  \t0.5205  \t0.8231  \t0.5719\n",
            "26  \t0.5240  \t0.8265  \t0.6243\n",
            "27  \t0.4748  \t0.8505  \t0.5633\n",
            "28  \t0.4251  \t0.8600  \t0.5481\n",
            "29  \t0.3839  \t0.8880  \t0.5481\n",
            "30  \t0.4376  \t0.8722  \t0.5581\n",
            "31  \t0.4046  \t0.8940  \t0.5552\n",
            "32  \t0.3583  \t0.9159  \t0.5581\n",
            "33  \t0.3363  \t0.9145  \t0.6205\n",
            "34  \t0.2679  \t0.9388  \t0.5581\n",
            "35  \t0.2310  \t0.9480  \t0.6171\n",
            "36  \t0.1939  \t0.9743  \t0.6238\n",
            "37  \t0.1709  \t0.9754  \t0.6419\n",
            "38  \t0.1491  \t0.9914  \t0.6505\n",
            "39  \t0.1146  \t0.9943  \t0.6219\n",
            "40  \t0.1125  \t0.9957  \t0.6238\n",
            "41  \t0.1110  \t0.9986  \t0.6405\n",
            "42  \t0.0910  \t0.9957  \t0.6019\n",
            "43  \t0.0829  \t0.9986  \t0.6252\n",
            "44  \t0.0873  \t0.9986  \t0.6119\n",
            "45  \t0.0943  \t0.9929  \t0.6438\n",
            "46  \t0.0958  \t0.9951  \t0.5767\n",
            "47  \t0.0879  \t0.9957  \t0.6033\n",
            "48  \t0.0927  \t0.9914  \t0.5800\n",
            "49  \t0.0710  \t0.9986  \t0.6390\n",
            "50  \t0.0692  \t0.9986  \t0.6543\n",
            "51  \t0.0489  \t0.9986  \t0.5981\n",
            "52  \t0.0554  \t1.0000  \t0.6219\n",
            "53  \t0.0333  \t1.0000  \t0.6657\n",
            "54  \t0.0378  \t1.0000  \t0.6457\n",
            "55  \t0.0268  \t1.0000  \t0.6371\n",
            "56  \t0.0287  \t1.0000  \t0.6524\n",
            "57  \t0.0321  \t1.0000  \t0.6033\n",
            "58  \t0.0315  \t1.0000  \t0.6186\n",
            "59  \t0.0216  \t1.0000  \t0.6100\n",
            "60  \t0.0258  \t1.0000  \t0.6457\n",
            "Learning Finished!\n"
          ]
        }
      ]
    },
    {
      "cell_type": "code",
      "metadata": {
        "id": "jHnz_IrJykNN",
        "colab": {
          "base_uri": "https://localhost:8080/"
        },
        "outputId": "b64fb936-642f-4c39-cd17-ccd65083264c"
      },
      "source": [
        "conf_mat = [[0]*7 for i in range(7)] #mat[real_label]=predicted_label list\n",
        "\n",
        "for images, labels in mel_test_dataset:\n",
        "  logits = model(images, training=False)\n",
        "  logits_max = tf.math.argmax(logits,1)\n",
        "  labels_max = tf.math.argmax(labels,1)\n",
        "  for i in range(len(logits)): conf_mat[labels_max[i]][logits_max[i]]+=1\n",
        "\n",
        "for i in range(7): print(conf_mat[i])"
      ],
      "execution_count": null,
      "outputs": [
        {
          "output_type": "stream",
          "name": "stdout",
          "text": [
            "[46, 0, 0, 0, 2, 0, 0]\n",
            "[0, 24, 2, 0, 1, 5, 4]\n",
            "[5, 0, 18, 1, 0, 1, 4]\n",
            "[7, 2, 0, 7, 3, 2, 5]\n",
            "[7, 0, 7, 1, 6, 0, 3]\n",
            "[0, 4, 1, 1, 0, 37, 0]\n",
            "[1, 4, 1, 0, 0, 0, 16]\n"
          ]
        }
      ]
    },
    {
      "cell_type": "code",
      "metadata": {
        "colab": {
          "base_uri": "https://localhost:8080/"
        },
        "id": "uRQFL0_RYqVU",
        "outputId": "c0c7951d-a1c9-4574-d41f-dae5505f59b8"
      },
      "source": [
        "conf_mat_normal = []\n",
        "for i in range(7):\n",
        "  s = sum(conf_mat[i])\n",
        "  conf_mat_normal.append(list(map(lambda x:(x/s)*100, conf_mat[i])))\n",
        "\n",
        "label = ['anger','boredom','disgust','fear','happy','sad','neutral']\n",
        "print('\\t'+'\\t'.join(label))\n",
        "for i in range(7):\n",
        "  print(label[i], end='')\n",
        "  for j in range(7): print('\\t%2.0f'%conf_mat_normal[i][j], end=' ')\n",
        "  print()"
      ],
      "execution_count": null,
      "outputs": [
        {
          "output_type": "stream",
          "name": "stdout",
          "text": [
            "\tanger\tboredom\tdisgust\tfear\thappy\tsad\tneutral\n",
            "anger\t96 \t 0 \t 0 \t 0 \t 4 \t 0 \t 0 \n",
            "boredom\t 0 \t67 \t 6 \t 0 \t 3 \t14 \t11 \n",
            "disgust\t17 \t 0 \t62 \t 3 \t 0 \t 3 \t14 \n",
            "fear\t27 \t 8 \t 0 \t27 \t12 \t 8 \t19 \n",
            "happy\t29 \t 0 \t29 \t 4 \t25 \t 0 \t12 \n",
            "sad\t 0 \t 9 \t 2 \t 2 \t 0 \t86 \t 0 \n",
            "neutral\t 5 \t18 \t 5 \t 0 \t 0 \t 0 \t73 \n"
          ]
        }
      ]
    },
    {
      "cell_type": "code",
      "metadata": {
        "id": "VN8pw0J-6TBl"
      },
      "source": [
        ""
      ],
      "execution_count": null,
      "outputs": []
    }
  ]
}
