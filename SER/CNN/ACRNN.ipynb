{
  "nbformat": 4,
  "nbformat_minor": 0,
  "metadata": {
    "colab": {
      "name": "ACRNN.ipynb",
      "provenance": [],
      "collapsed_sections": [],
      "mount_file_id": "1qtrYSZN8NdNvIxDtyPQgyh8GayUXKfv5",
      "authorship_tag": "ABX9TyNdBYHSXtgeSBPmi5p7Lf45",
      "include_colab_link": true
    },
    "kernelspec": {
      "name": "python3",
      "display_name": "Python 3"
    },
    "language_info": {
      "name": "python"
    },
    "accelerator": "GPU"
  },
  "cells": [
    {
      "cell_type": "markdown",
      "metadata": {
        "id": "view-in-github",
        "colab_type": "text"
      },
      "source": [
        "<a href=\"https://colab.research.google.com/github/arjasc5231/moodots/blob/ACRNN/SER/CNN/ACRNN.ipynb\" target=\"_parent\"><img src=\"https://colab.research.google.com/assets/colab-badge.svg\" alt=\"Open In Colab\"/></a>"
      ]
    },
    {
      "cell_type": "code",
      "metadata": {
        "colab": {
          "base_uri": "https://localhost:8080/"
        },
        "id": "qMUivsks6xrt",
        "outputId": "3b6a7eb0-858b-4c0b-9fc5-b57417a99792"
      },
      "source": [
        "from google.colab import drive\n",
        "drive.mount('/content/drive')"
      ],
      "execution_count": 1,
      "outputs": [
        {
          "output_type": "stream",
          "name": "stdout",
          "text": [
            "Drive already mounted at /content/drive; to attempt to forcibly remount, call drive.mount(\"/content/drive\", force_remount=True).\n"
          ]
        }
      ]
    },
    {
      "cell_type": "code",
      "metadata": {
        "id": "9iI8jKgULPV_"
      },
      "source": [
        "import tensorflow as tf\n",
        "from tensorflow import keras\n",
        "from tensorflow.keras.utils import to_categorical\n",
        "import numpy as np\n",
        "import matplotlib.pyplot as plt\n",
        "import os"
      ],
      "execution_count": 2,
      "outputs": []
    },
    {
      "cell_type": "code",
      "metadata": {
        "id": "dOcuV6s4MEFw"
      },
      "source": [
        "learning_rate = 0.001\n",
        "training_epochs = 60\n",
        "batch_size = 100"
      ],
      "execution_count": 3,
      "outputs": []
    },
    {
      "cell_type": "code",
      "metadata": {
        "colab": {
          "base_uri": "https://localhost:8080/"
        },
        "id": "Srm3eVVJuJNB",
        "outputId": "b50443a4-3a63-4ff9-b5dd-b1439a5fede4"
      },
      "source": [
        "mel_X_train, mel_X_test, mel_Y_train, mel_Y_test = np.load(\"/content/drive/MyDrive/team_runner/colab/dataset/emoDB/emo_mel_more.npy\", allow_pickle=True)\n",
        "\n",
        "print(mel_X_train.shape)\n",
        "print(mel_Y_train.shape)\n",
        "print(mel_X_test.shape)\n",
        "print(mel_Y_test.shape)"
      ],
      "execution_count": 4,
      "outputs": [
        {
          "output_type": "stream",
          "name": "stdout",
          "text": [
            "(683, 128, 128)\n",
            "(683,)\n",
            "(228, 128, 128)\n",
            "(228,)\n"
          ]
        }
      ]
    },
    {
      "cell_type": "code",
      "metadata": {
        "id": "T50eCGEAyRXu"
      },
      "source": [
        "mel_X_train = np.expand_dims(mel_X_train, axis=-1)\n",
        "mel_X_test = np.expand_dims(mel_X_test, axis=-1)\n",
        "\n",
        "mel_Y_train = to_categorical(mel_Y_train, 7)\n",
        "mel_Y_test = to_categorical(mel_Y_test, 7)    \n",
        "\n",
        "mel_train_dataset = tf.data.Dataset.from_tensor_slices((mel_X_train, mel_Y_train)).batch(batch_size)\n",
        "mel_test_dataset = tf.data.Dataset.from_tensor_slices((mel_X_test, mel_Y_test)).batch(batch_size)"
      ],
      "execution_count": 5,
      "outputs": []
    },
    {
      "cell_type": "code",
      "metadata": {
        "id": "Q6Uu2gRdyUep"
      },
      "source": [
        "# 일단 매우매우 얕게 만들었음\n",
        "\n",
        "\"\"\"\n",
        "attention 이론은 https://wikidocs.net/22893 참고\n",
        "Bahdanau방식 https://github.com/philipperemy/keras-attention-mechanism 참고\n",
        "ACRNN 논문에서는 LSTM의 마지막 출력값도 사용하지 않은 특이한 attention을 사용...\n",
        "  논문 코드 https://github.com/xuanjihe/speech-emotion-recognition/blob/master/crnn.py 에서 u_omega의 역할을 이해 못했음 일단 빼고 구현\n",
        "https://stackoverflow.com/questions/42918446/how-to-add-an-attention-mechanism-in-keras?answertab=votes#tab-top repeatvector를 이용하기도 하네\n",
        "https://github.com/keras-team/keras/issues/1472 여기도 참고\n",
        "\"\"\"\n",
        "\n",
        "\n",
        "def create_model():\n",
        "    inputs = keras.Input(shape=(128, 128, 1))\n",
        "    conv1 = keras.layers.Conv2D(filters=32, kernel_size=[3, 3], activation=tf.nn.relu)(inputs)\n",
        "    pool1 = keras.layers.MaxPool2D(padding='SAME')(conv1)\n",
        "    conv2 = keras.layers.Conv2D(filters=64, kernel_size=[3, 3], activation=tf.nn.relu)(pool1)\n",
        "    pool2 = keras.layers.MaxPool2D(padding='SAME')(conv2)\n",
        "    conv3 = keras.layers.Conv2D(filters=128, kernel_size=[3, 3], activation=tf.nn.relu)(pool2)\n",
        "    pool3 = keras.layers.MaxPool2D(padding='SAME')(conv3)\n",
        "\n",
        "    trans = keras.layers.Permute((2,1,3))(pool3)\n",
        "    reshape = keras.layers.Reshape((-1, 15*128))(trans) # 열 개수(freq축)*ch\n",
        "    lstm = keras.layers.Bidirectional(keras.layers.LSTM(128, return_sequences=True, dropout=0.3))(reshape) # (time=15,hidden=256)\n",
        "\n",
        "    attention_score1 = keras.layers.Dense(1, activation='tanh')(lstm) # lstm(time,hidden)*W(hidden,1)=score(time,1)\n",
        "    attention_score2 = keras.layers.Softmax()(attention_score1)\n",
        "    attention = keras.layers.Dot(axes=(1,1))([lstm, attention_score2]) # (time=15, hidden=256) * (time,) => (hidden=256)\n",
        "    flatten = keras.layers.Flatten()(attention)\n",
        "    \n",
        "    fc = keras.layers.Dense(7)(flatten)\n",
        "    return keras.Model(inputs=inputs, outputs=fc)"
      ],
      "execution_count": 22,
      "outputs": []
    },
    {
      "cell_type": "code",
      "metadata": {
        "colab": {
          "base_uri": "https://localhost:8080/"
        },
        "id": "IIxR_4KLyXAe",
        "outputId": "8ec5c8c7-ca8e-4a8c-d5ff-682ccfc40e80"
      },
      "source": [
        "model = create_model()\n",
        "model.summary()"
      ],
      "execution_count": 23,
      "outputs": [
        {
          "output_type": "stream",
          "name": "stdout",
          "text": [
            "Model: \"model_2\"\n",
            "__________________________________________________________________________________________________\n",
            "Layer (type)                    Output Shape         Param #     Connected to                     \n",
            "==================================================================================================\n",
            "input_3 (InputLayer)            [(None, 128, 128, 1) 0                                            \n",
            "__________________________________________________________________________________________________\n",
            "conv2d_6 (Conv2D)               (None, 126, 126, 32) 320         input_3[0][0]                    \n",
            "__________________________________________________________________________________________________\n",
            "max_pooling2d_6 (MaxPooling2D)  (None, 63, 63, 32)   0           conv2d_6[0][0]                   \n",
            "__________________________________________________________________________________________________\n",
            "conv2d_7 (Conv2D)               (None, 61, 61, 64)   18496       max_pooling2d_6[0][0]            \n",
            "__________________________________________________________________________________________________\n",
            "max_pooling2d_7 (MaxPooling2D)  (None, 31, 31, 64)   0           conv2d_7[0][0]                   \n",
            "__________________________________________________________________________________________________\n",
            "conv2d_8 (Conv2D)               (None, 29, 29, 128)  73856       max_pooling2d_7[0][0]            \n",
            "__________________________________________________________________________________________________\n",
            "max_pooling2d_8 (MaxPooling2D)  (None, 15, 15, 128)  0           conv2d_8[0][0]                   \n",
            "__________________________________________________________________________________________________\n",
            "permute_2 (Permute)             (None, 15, 15, 128)  0           max_pooling2d_8[0][0]            \n",
            "__________________________________________________________________________________________________\n",
            "reshape_2 (Reshape)             (None, 15, 1920)     0           permute_2[0][0]                  \n",
            "__________________________________________________________________________________________________\n",
            "bidirectional_2 (Bidirectional) (None, 15, 256)      2098176     reshape_2[0][0]                  \n",
            "__________________________________________________________________________________________________\n",
            "dense_4 (Dense)                 (None, 15, 1)        257         bidirectional_2[0][0]            \n",
            "__________________________________________________________________________________________________\n",
            "softmax_2 (Softmax)             (None, 15, 1)        0           dense_4[0][0]                    \n",
            "__________________________________________________________________________________________________\n",
            "dot_2 (Dot)                     (None, 256, 1)       0           bidirectional_2[0][0]            \n",
            "                                                                 softmax_2[0][0]                  \n",
            "__________________________________________________________________________________________________\n",
            "flatten_2 (Flatten)             (None, 256)          0           dot_2[0][0]                      \n",
            "__________________________________________________________________________________________________\n",
            "dense_5 (Dense)                 (None, 7)            1799        flatten_2[0][0]                  \n",
            "==================================================================================================\n",
            "Total params: 2,192,904\n",
            "Trainable params: 2,192,904\n",
            "Non-trainable params: 0\n",
            "__________________________________________________________________________________________________\n"
          ]
        }
      ]
    },
    {
      "cell_type": "code",
      "metadata": {
        "id": "e-0PiEFdyY7T"
      },
      "source": [
        "def loss_fn(model, images, labels):\n",
        "    logits = model(images, training=True)\n",
        "    loss = tf.reduce_mean(tf.keras.losses.categorical_crossentropy(y_pred=logits, y_true=labels, from_logits=True))    \n",
        "    return loss"
      ],
      "execution_count": 16,
      "outputs": []
    },
    {
      "cell_type": "code",
      "metadata": {
        "id": "W5x6EkHUybJv"
      },
      "source": [
        "def grad(model, images, labels):\n",
        "    with tf.GradientTape() as tape:\n",
        "        loss = loss_fn(model, images, labels)\n",
        "    return tape.gradient(loss, model.variables)"
      ],
      "execution_count": 17,
      "outputs": []
    },
    {
      "cell_type": "code",
      "metadata": {
        "id": "v7AdZJecycsD"
      },
      "source": [
        "def evaluate(model, images, labels):\n",
        "    logits = model(images, training=False)\n",
        "    correct_prediction = tf.equal(tf.argmax(logits, 1), tf.argmax(labels, 1))\n",
        "    accuracy = tf.reduce_mean(tf.cast(correct_prediction, tf.float32))\n",
        "    return accuracy"
      ],
      "execution_count": 18,
      "outputs": []
    },
    {
      "cell_type": "code",
      "metadata": {
        "id": "sQEPnkEpyfHP"
      },
      "source": [
        "optimizer = tf.optimizers.Adam(learning_rate=learning_rate)"
      ],
      "execution_count": 19,
      "outputs": []
    },
    {
      "cell_type": "code",
      "metadata": {
        "colab": {
          "base_uri": "https://localhost:8080/"
        },
        "id": "LDbPf0WtygoC",
        "outputId": "0ce31717-0a40-45c2-a739-5f2051384d03"
      },
      "source": [
        "print('Learning started. It takes sometime.')\n",
        "print('Epoch\\tloss\\t\\ttrain acc\\ttest acc')\n",
        "for epoch in range(training_epochs):\n",
        "    loss = 0.\n",
        "    train_acc = 0.\n",
        "    test_acc = 0.\n",
        "    \n",
        "    for images, labels in mel_train_dataset:\n",
        "        grads = grad(model, images, labels)                \n",
        "        optimizer.apply_gradients(zip(grads, model.variables)) \n",
        "        loss += loss_fn(model, images, labels)\n",
        "        train_acc += evaluate(model, images, labels)\n",
        "    loss = loss / len(mel_train_dataset)\n",
        "    train_acc = train_acc / len(mel_train_dataset)\n",
        "    \n",
        "    for images, labels in mel_test_dataset:\n",
        "        test_acc += evaluate(model, images, labels)\n",
        "    test_acc = test_acc / len(mel_test_dataset)  \n",
        "\n",
        "    print('{}  \\t{:.4f}  \\t{:.4f}  \\t{:.4f}'.format(epoch+1, loss, train_acc, test_acc))\n",
        "\n",
        "print('Learning Finished!')\n",
        "# 3분 소요. 초반 학습 속도(수렴 속도)가 빠르다는 느낌.\n",
        "# dropout=0.5: 38epoch에서 71%달성. 87epoch에서 73.67%달성\n",
        "# dropout=0.3: 상대적으로 학습을 너무 못하는데? 설정을 잘못했나?\n",
        "# dropout=0: 70%달성 못함\n"
      ],
      "execution_count": 25,
      "outputs": [
        {
          "output_type": "stream",
          "name": "stdout",
          "text": [
            "Learning started. It takes sometime.\n",
            "Epoch\tloss\t\ttrain acc\ttest acc\n",
            "1  \t0.9038  \t0.6652  \t0.5076\n",
            "2  \t0.9191  \t0.6512  \t0.5386\n",
            "3  \t0.9130  \t0.6667  \t0.5162\n",
            "4  \t0.9107  \t0.6541  \t0.5067\n",
            "5  \t0.8855  \t0.6967  \t0.5295\n",
            "6  \t0.8921  \t0.6764  \t0.5329\n",
            "7  \t0.8876  \t0.6707  \t0.5229\n",
            "8  \t0.8363  \t0.6876  \t0.5495\n",
            "9  \t0.8553  \t0.6996  \t0.5043\n",
            "10  \t0.8370  \t0.7050  \t0.5276\n",
            "11  \t0.8645  \t0.6827  \t0.5429\n",
            "12  \t0.8368  \t0.6787  \t0.5429\n",
            "13  \t0.8941  \t0.6847  \t0.5333\n",
            "14  \t0.8154  \t0.7018  \t0.5029\n",
            "15  \t0.8196  \t0.6890  \t0.5181\n",
            "16  \t0.8241  \t0.7053  \t0.5481\n",
            "17  \t0.8244  \t0.7096  \t0.5686\n",
            "18  \t0.7826  \t0.6993  \t0.5543\n",
            "19  \t0.8002  \t0.7121  \t0.5819\n",
            "20  \t0.8163  \t0.7021  \t0.5567\n",
            "21  \t0.7899  \t0.7087  \t0.5062\n",
            "22  \t0.8154  \t0.7236  \t0.5348\n",
            "23  \t0.7909  \t0.7261  \t0.4990\n",
            "24  \t0.7740  \t0.7253  \t0.5581\n",
            "25  \t0.7715  \t0.7076  \t0.4910\n",
            "26  \t0.7752  \t0.7376  \t0.5448\n",
            "27  \t0.7776  \t0.7299  \t0.5800\n",
            "28  \t0.8014  \t0.7264  \t0.5481\n",
            "29  \t0.7844  \t0.7281  \t0.5667\n",
            "30  \t0.7700  \t0.7347  \t0.5486\n",
            "31  \t0.7282  \t0.7541  \t0.5705\n",
            "32  \t0.7401  \t0.7390  \t0.5248\n",
            "33  \t0.7419  \t0.7556  \t0.5481\n",
            "34  \t0.7009  \t0.7424  \t0.4924\n",
            "35  \t0.7466  \t0.7418  \t0.5200\n",
            "36  \t0.7275  \t0.7533  \t0.5400\n",
            "37  \t0.7066  \t0.7433  \t0.5571\n",
            "38  \t0.7143  \t0.7418  \t0.5281\n",
            "39  \t0.7012  \t0.7447  \t0.5329\n",
            "40  \t0.7352  \t0.7236  \t0.5767\n",
            "41  \t0.7604  \t0.7136  \t0.5314\n",
            "42  \t0.7225  \t0.7447  \t0.5438\n",
            "43  \t0.7017  \t0.7276  \t0.5419\n",
            "44  \t0.7226  \t0.7239  \t0.5295\n",
            "45  \t0.6690  \t0.7562  \t0.5367\n",
            "46  \t0.6684  \t0.7576  \t0.5486\n",
            "47  \t0.6316  \t0.7476  \t0.5333\n",
            "48  \t0.6504  \t0.7644  \t0.5295\n",
            "49  \t0.6712  \t0.7581  \t0.5348\n",
            "50  \t0.6657  \t0.7541  \t0.5381\n",
            "51  \t0.6564  \t0.7562  \t0.4995\n",
            "52  \t0.6672  \t0.7678  \t0.5081\n",
            "53  \t0.6602  \t0.7713  \t0.5467\n",
            "54  \t0.6163  \t0.7616  \t0.5481\n",
            "55  \t0.6568  \t0.7625  \t0.5733\n",
            "56  \t0.5940  \t0.7739  \t0.5200\n",
            "57  \t0.5841  \t0.7624  \t0.5538\n",
            "58  \t0.5783  \t0.7513  \t0.5048\n",
            "59  \t0.5888  \t0.7481  \t0.5452\n",
            "60  \t0.5711  \t0.7762  \t0.5838\n",
            "Learning Finished!\n"
          ]
        }
      ]
    },
    {
      "cell_type": "code",
      "metadata": {
        "id": "jHnz_IrJykNN",
        "colab": {
          "base_uri": "https://localhost:8080/"
        },
        "outputId": "b64fb936-642f-4c39-cd17-ccd65083264c"
      },
      "source": [
        "conf_mat = [[0]*7 for i in range(7)] #mat[real_label]=predicted_label list\n",
        "\n",
        "for images, labels in mel_test_dataset:\n",
        "  logits = model(images, training=False)\n",
        "  logits_max = tf.math.argmax(logits,1)\n",
        "  labels_max = tf.math.argmax(labels,1)\n",
        "  for i in range(len(logits)): conf_mat[labels_max[i]][logits_max[i]]+=1\n",
        "\n",
        "for i in range(7): print(conf_mat[i])"
      ],
      "execution_count": null,
      "outputs": [
        {
          "output_type": "stream",
          "name": "stdout",
          "text": [
            "[46, 0, 0, 0, 2, 0, 0]\n",
            "[0, 24, 2, 0, 1, 5, 4]\n",
            "[5, 0, 18, 1, 0, 1, 4]\n",
            "[7, 2, 0, 7, 3, 2, 5]\n",
            "[7, 0, 7, 1, 6, 0, 3]\n",
            "[0, 4, 1, 1, 0, 37, 0]\n",
            "[1, 4, 1, 0, 0, 0, 16]\n"
          ]
        }
      ]
    },
    {
      "cell_type": "code",
      "metadata": {
        "colab": {
          "base_uri": "https://localhost:8080/"
        },
        "id": "uRQFL0_RYqVU",
        "outputId": "c0c7951d-a1c9-4574-d41f-dae5505f59b8"
      },
      "source": [
        "conf_mat_normal = []\n",
        "for i in range(7):\n",
        "  s = sum(conf_mat[i])\n",
        "  conf_mat_normal.append(list(map(lambda x:(x/s)*100, conf_mat[i])))\n",
        "\n",
        "label = ['anger','boredom','disgust','fear','happy','sad','neutral']\n",
        "print('\\t'+'\\t'.join(label))\n",
        "for i in range(7):\n",
        "  print(label[i], end='')\n",
        "  for j in range(7): print('\\t%2.0f'%conf_mat_normal[i][j], end=' ')\n",
        "  print()"
      ],
      "execution_count": null,
      "outputs": [
        {
          "output_type": "stream",
          "name": "stdout",
          "text": [
            "\tanger\tboredom\tdisgust\tfear\thappy\tsad\tneutral\n",
            "anger\t96 \t 0 \t 0 \t 0 \t 4 \t 0 \t 0 \n",
            "boredom\t 0 \t67 \t 6 \t 0 \t 3 \t14 \t11 \n",
            "disgust\t17 \t 0 \t62 \t 3 \t 0 \t 3 \t14 \n",
            "fear\t27 \t 8 \t 0 \t27 \t12 \t 8 \t19 \n",
            "happy\t29 \t 0 \t29 \t 4 \t25 \t 0 \t12 \n",
            "sad\t 0 \t 9 \t 2 \t 2 \t 0 \t86 \t 0 \n",
            "neutral\t 5 \t18 \t 5 \t 0 \t 0 \t 0 \t73 \n"
          ]
        }
      ]
    },
    {
      "cell_type": "code",
      "metadata": {
        "id": "VN8pw0J-6TBl"
      },
      "source": [
        ""
      ],
      "execution_count": null,
      "outputs": []
    }
  ]
}