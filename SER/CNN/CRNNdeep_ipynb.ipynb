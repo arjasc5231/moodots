{
  "nbformat": 4,
  "nbformat_minor": 0,
  "metadata": {
    "colab": {
      "name": "CRNNdeep.ipynb의 사본",
      "provenance": [],
      "collapsed_sections": [],
      "mount_file_id": "1fWObq_2X3hfj_lLMwg1ynZRpO1EU2kDx",
      "authorship_tag": "ABX9TyPBqd8QyU2NfHPYmKr4gHTa",
      "include_colab_link": true
    },
    "kernelspec": {
      "name": "python3",
      "display_name": "Python 3"
    },
    "language_info": {
      "name": "python"
    },
    "accelerator": "GPU"
  },
  "cells": [
    {
      "cell_type": "markdown",
      "metadata": {
        "id": "view-in-github",
        "colab_type": "text"
      },
      "source": [
        "<a href=\"https://colab.research.google.com/github/arjasc5231/moodots/blob/main/SER/CNN/CRNNdeep_ipynb.ipynb\" target=\"_parent\"><img src=\"https://colab.research.google.com/assets/colab-badge.svg\" alt=\"Open In Colab\"/></a>"
      ]
    },
    {
      "cell_type": "code",
      "metadata": {
        "id": "9iI8jKgULPV_"
      },
      "source": [
        "import tensorflow as tf\n",
        "from tensorflow import keras\n",
        "from tensorflow.keras.utils import to_categorical\n",
        "import numpy as np\n",
        "import sys\n",
        "sys.path.append(\"/content/drive/MyDrive/team_runner/colab/emoDB/CNN\")\n",
        "from kfold import kfold"
      ],
      "execution_count": null,
      "outputs": []
    },
    {
      "cell_type": "code",
      "metadata": {
        "id": "dOcuV6s4MEFw",
        "colab": {
          "base_uri": "https://localhost:8080/"
        },
        "outputId": "1a9bed0e-f6d5-4fec-9aaa-99c60917f9af"
      },
      "source": [
        "X_train, X_test, Y_train, Y_test = np.load(\"/content/drive/MyDrive/team_runner/colab/dataset/emoDB/emo_mel_more.npy\", allow_pickle=True)\n",
        "X = np.concatenate((X_train, X_test), axis=0)\n",
        "X = np.expand_dims(X, axis=-1)\n",
        "Y = np.concatenate((Y_train, Y_test), axis=0)\n",
        "\n",
        "print(X.shape)\n",
        "print(Y.shape)"
      ],
      "execution_count": null,
      "outputs": [
        {
          "output_type": "stream",
          "name": "stdout",
          "text": [
            "(911, 128, 128, 1)\n",
            "(911,)\n"
          ]
        }
      ]
    },
    {
      "cell_type": "code",
      "metadata": {
        "id": "Q6Uu2gRdyUep"
      },
      "source": [
        "def create_model():\n",
        "    inputs = keras.Input(shape=(128, 128, 1))\n",
        "    conv1 = keras.layers.Conv2D(filters=32, kernel_size=[3, 3], padding='same', activation=tf.nn.relu)(inputs)\n",
        "    pool1 = keras.layers.MaxPool2D()(conv1)\n",
        "    conv2 = keras.layers.Conv2D(filters=64, kernel_size=[3, 3], padding='same', activation=tf.nn.relu)(pool1)\n",
        "    pool2 = keras.layers.MaxPool2D()(conv2)\n",
        "    conv3 = keras.layers.Conv2D(filters=128, kernel_size=[3, 3], padding='same', activation=tf.nn.relu)(pool2)\n",
        "    pool3 = keras.layers.MaxPool2D()(conv3)\n",
        "\n",
        "    trans = keras.layers.Permute((2,1,3))(pool3)     # 확실히 시간순으로 lstm에 학습을 안하면 overfitting만 된다. 정확도 50%\n",
        "    reshape = keras.layers.Reshape((-1, 16*128))(trans) # 열 개수(freq축)*ch\n",
        "    linear = keras.layers.Dense(512)(reshape)\n",
        "    lstm = keras.layers.Bidirectional(keras.layers.LSTM(128, return_sequences=False, dropout=0.5))(linear)\n",
        "\n",
        "    fc = keras.layers.Dense(128)(lstm)\n",
        "    drop = keras.layers.Dropout(0.5)(fc) # 없어도 77%는 나오네\n",
        "    output = keras.layers.Dense(7)(drop)\n",
        "    return keras.Model(inputs=inputs, outputs=output)"
      ],
      "execution_count": null,
      "outputs": []
    },
    {
      "cell_type": "code",
      "metadata": {
        "colab": {
          "base_uri": "https://localhost:8080/"
        },
        "id": "IIxR_4KLyXAe",
        "outputId": "2d20f78f-f653-4569-b791-1879c1cfdc6e"
      },
      "source": [
        "model = create_model()\n",
        "model.summary()"
      ],
      "execution_count": null,
      "outputs": [
        {
          "output_type": "stream",
          "name": "stdout",
          "text": [
            "Model: \"model\"\n",
            "_________________________________________________________________\n",
            "Layer (type)                 Output Shape              Param #   \n",
            "=================================================================\n",
            "input_1 (InputLayer)         [(None, 128, 128, 1)]     0         \n",
            "_________________________________________________________________\n",
            "conv2d (Conv2D)              (None, 128, 128, 32)      320       \n",
            "_________________________________________________________________\n",
            "max_pooling2d (MaxPooling2D) (None, 64, 64, 32)        0         \n",
            "_________________________________________________________________\n",
            "conv2d_1 (Conv2D)            (None, 64, 64, 64)        18496     \n",
            "_________________________________________________________________\n",
            "max_pooling2d_1 (MaxPooling2 (None, 32, 32, 64)        0         \n",
            "_________________________________________________________________\n",
            "conv2d_2 (Conv2D)            (None, 32, 32, 128)       73856     \n",
            "_________________________________________________________________\n",
            "max_pooling2d_2 (MaxPooling2 (None, 16, 16, 128)       0         \n",
            "_________________________________________________________________\n",
            "permute (Permute)            (None, 16, 16, 128)       0         \n",
            "_________________________________________________________________\n",
            "reshape (Reshape)            (None, 16, 2048)          0         \n",
            "_________________________________________________________________\n",
            "dense (Dense)                (None, 16, 512)           1049088   \n",
            "_________________________________________________________________\n",
            "bidirectional (Bidirectional (None, 256)               656384    \n",
            "_________________________________________________________________\n",
            "dense_1 (Dense)              (None, 128)               32896     \n",
            "_________________________________________________________________\n",
            "dropout (Dropout)            (None, 128)               0         \n",
            "_________________________________________________________________\n",
            "dense_2 (Dense)              (None, 7)                 903       \n",
            "=================================================================\n",
            "Total params: 1,831,943\n",
            "Trainable params: 1,831,943\n",
            "Non-trainable params: 0\n",
            "_________________________________________________________________\n"
          ]
        }
      ]
    },
    {
      "cell_type": "code",
      "metadata": {
        "colab": {
          "base_uri": "https://localhost:8080/"
        },
        "id": "LDbPf0WtygoC",
        "outputId": "1dc38051-f245-43e9-b050-12d9ba241da2"
      },
      "source": [
        "kfold(5, create_model, X, Y, 0.001, 100, 120, 10)"
      ],
      "execution_count": null,
      "outputs": [
        {
          "output_type": "stream",
          "name": "stdout",
          "text": [
            "Learning started. k=5\n",
            "<<fold 1>>\n",
            "Epoch\tloss\t\ttrain acc\ttest acc\n",
            "10  \t0.9183  \t0.6637  \t0.5090\n",
            "20  \t0.4962  \t0.8230  \t0.5561\n",
            "30  \t0.2074  \t0.9350  \t0.6754\n",
            "40  \t0.2934  \t0.9125  \t0.6372\n",
            "50  \t0.0673  \t0.9875  \t0.7846\n",
            "60  \t0.0024  \t1.0000  \t0.8337\n",
            "70  \t0.0019  \t1.0000  \t0.8227\n",
            "80  \t0.0008  \t1.0000  \t0.8327\n",
            "90  \t0.0005  \t1.0000  \t0.8277\n",
            "100  \t0.0004  \t1.0000  \t0.8277\n",
            "110  \t0.0005  \t1.0000  \t0.8277\n",
            "120  \t0.0002  \t1.0000  \t0.8227\n",
            "max train accuracy: 1.0000\n",
            "max test accuracy: 0.8487\n",
            "<<fold 2>>\n",
            "Epoch\tloss\t\ttrain acc\ttest acc\n",
            "10  \t1.0762  \t0.6365  \t0.5627\n",
            "20  \t0.6596  \t0.7664  \t0.7098\n",
            "30  \t0.3461  \t0.8957  \t0.6954\n",
            "40  \t0.1554  \t0.9588  \t0.7348\n",
            "50  \t0.0334  \t0.9975  \t0.7559\n",
            "60  \t0.0061  \t1.0000  \t0.7680\n",
            "70  \t0.0054  \t1.0000  \t0.7637\n",
            "80  \t0.0078  \t0.9987  \t0.7526\n",
            "90  \t0.0166  \t1.0000  \t0.7143\n",
            "100  \t0.0015  \t1.0000  \t0.7587\n",
            "110  \t0.0007  \t1.0000  \t0.7415\n",
            "120  \t0.0014  \t1.0000  \t0.7587\n",
            "max train accuracy: 1.0000\n",
            "max test accuracy: 0.7759\n",
            "<<fold 3>>\n",
            "Epoch\tloss\t\ttrain acc\ttest acc\n",
            "10  \t1.0056  \t0.6144  \t0.5949\n",
            "20  \t0.5662  \t0.8069  \t0.6904\n",
            "30  \t0.3802  \t0.8637  \t0.7580\n",
            "40  \t0.0912  \t0.9800  \t0.7513\n",
            "50  \t0.0639  \t0.9925  \t0.7420\n",
            "60  \t0.0046  \t1.0000  \t0.7685\n",
            "70  \t0.0013  \t1.0000  \t0.7624\n",
            "80  \t0.0013  \t1.0000  \t0.7735\n",
            "90  \t0.0006  \t1.0000  \t0.7674\n",
            "100  \t0.0006  \t1.0000  \t0.7352\n",
            "110  \t0.0004  \t1.0000  \t0.7674\n",
            "120  \t0.1732  \t0.9563  \t0.7059\n",
            "max train accuracy: 1.0000\n",
            "max test accuracy: 0.7796\n",
            "<<fold 4>>\n",
            "Epoch\tloss\t\ttrain acc\ttest acc\n",
            "10  \t0.9837  \t0.6361  \t0.5744\n",
            "20  \t0.5542  \t0.7989  \t0.6560\n",
            "30  \t0.3667  \t0.8887  \t0.6610\n",
            "40  \t0.1187  \t0.9750  \t0.7641\n",
            "50  \t0.0217  \t1.0000  \t0.7591\n",
            "60  \t0.0051  \t1.0000  \t0.7802\n",
            "70  \t0.0019  \t1.0000  \t0.7702\n",
            "80  \t0.0016  \t1.0000  \t0.7763\n",
            "90  \t0.0006  \t1.0000  \t0.7702\n",
            "100  \t0.0487  \t0.9963  \t0.7348\n",
            "110  \t0.0078  \t1.0000  \t0.7520\n",
            "120  \t0.0015  \t1.0000  \t0.7691\n",
            "max train accuracy: 1.0000\n",
            "max test accuracy: 0.7885\n",
            "<<fold 5>>\n",
            "Epoch\tloss\t\ttrain acc\ttest acc\n",
            "10  \t1.0174  \t0.6509  \t0.5866\n",
            "20  \t0.5113  \t0.8375  \t0.6582\n",
            "30  \t0.3443  \t0.8912  \t0.6127\n",
            "40  \t0.1640  \t0.9525  \t0.6965\n",
            "50  \t0.0193  \t1.0000  \t0.7591\n",
            "60  \t0.0053  \t1.0000  \t0.7548\n",
            "70  \t0.0022  \t1.0000  \t0.7559\n",
            "80  \t0.0010  \t1.0000  \t0.7630\n",
            "90  \t0.0009  \t1.0000  \t0.7720\n",
            "100  \t0.0005  \t1.0000  \t0.7680\n",
            "110  \t0.0006  \t1.0000  \t0.7680\n",
            "120  \t0.0337  \t1.0000  \t0.6299\n",
            "max train accuracy: 1.0000\n",
            "max test accuracy: 0.7780\n",
            "\n",
            "Learning Finished!\n",
            "average train accuracy: 1.0000\n",
            "average test accuracy: 0.7942\n",
            "test std: 0.0276\n",
            "\n",
            "\tanger\tboredom\tdisgust\tfear\thappy\tsad\tneutral\t#\n",
            "anger\t83 \t 0 \t 3 \t 4 \t 7 \t 0 \t 2 \t202 \n",
            "boredom\t 0 \t63 \t 4 \t 2 \t 0 \t15 \t16 \t137 \n",
            "disgust\t 0 \t 1 \t80 \t 5 \t 4 \t 5 \t 4 \t97 \n",
            "fear\t 9 \t 4 \t 6 \t54 \t11 \t10 \t 6 \t93 \n",
            "happy\t22 \t 2 \t 8 \t 7 \t58 \t 0 \t 3 \t106 \n",
            "sad\t 0 \t 4 \t 0 \t 0 \t 0 \t96 \t 0 \t167 \n",
            "neutral\t 3 \t19 \t 4 \t 3 \t 4 \t 5 \t63 \t109 \n"
          ]
        }
      ]
    }
  ]
}