{
  "nbformat": 4,
  "nbformat_minor": 0,
  "metadata": {
    "colab": {
      "name": "CRNNdeep.ipynb의 사본",
      "provenance": [],
      "collapsed_sections": [],
      "mount_file_id": "1fWObq_2X3hfj_lLMwg1ynZRpO1EU2kDx",
      "authorship_tag": "ABX9TyNGvAY47rkGlocdMXLiGEcc",
      "include_colab_link": true
    },
    "kernelspec": {
      "name": "python3",
      "display_name": "Python 3"
    },
    "language_info": {
      "name": "python"
    },
    "accelerator": "GPU"
  },
  "cells": [
    {
      "cell_type": "markdown",
      "metadata": {
        "id": "view-in-github",
        "colab_type": "text"
      },
      "source": [
        "<a href=\"https://colab.research.google.com/github/arjasc5231/moodots/blob/ACRNN/SER/CNN/CRNNdeep_ipynb.ipynb\" target=\"_parent\"><img src=\"https://colab.research.google.com/assets/colab-badge.svg\" alt=\"Open In Colab\"/></a>"
      ]
    },
    {
      "cell_type": "code",
      "metadata": {
        "id": "9iI8jKgULPV_"
      },
      "source": [
        "import tensorflow as tf\n",
        "from tensorflow import keras\n",
        "from tensorflow.keras.utils import to_categorical\n",
        "import numpy as np\n",
        "import sys\n",
        "sys.path.append(\"/content/drive/MyDrive/team_runner/colab/emoDB/CNN\")\n",
        "from kfold import kfold"
      ],
      "execution_count": null,
      "outputs": []
    },
    {
      "cell_type": "code",
      "metadata": {
        "id": "dOcuV6s4MEFw",
        "colab": {
          "base_uri": "https://localhost:8080/"
        },
        "outputId": "6378cca9-871d-4697-afb7-fce81e15f35d"
      },
      "source": [
        "X_train, X_test, Y_train, Y_test = np.load(\"/content/drive/MyDrive/team_runner/colab/dataset/emoDB/emo_mel_3d.npy\", allow_pickle=True) # 0.8265+-0.0140\n",
        "#X_train, X_test, Y_train, Y_test = np.load(\"/content/drive/MyDrive/team_runner/colab/dataset/emoDB/emo_mel_more.npy\", allow_pickle=True) # 정확도 0.7942+-0.0276\n",
        "X = np.concatenate((X_train, X_test), axis=0)\n",
        "#X = np.expand_dims(X, axis=-1)\n",
        "Y = np.concatenate((Y_train, Y_test), axis=0)\n",
        "\n",
        "print(X.shape)\n",
        "print(Y.shape)"
      ],
      "execution_count": null,
      "outputs": [
        {
          "output_type": "stream",
          "name": "stdout",
          "text": [
            "(911, 128, 128, 3)\n",
            "(911,)\n"
          ]
        }
      ]
    },
    {
      "cell_type": "code",
      "metadata": {
        "id": "Q6Uu2gRdyUep"
      },
      "source": [
        "def create_model():\n",
        "    inputs = keras.Input(shape=(128, 128, 3))\n",
        "    # inputs = keras.Input(shape=(128, 128, 1))\n",
        "    conv1 = keras.layers.Conv2D(filters=32, kernel_size=[3, 3], padding='same', activation=tf.nn.relu)(inputs)\n",
        "    pool1 = keras.layers.MaxPool2D()(conv1)\n",
        "    conv2 = keras.layers.Conv2D(filters=64, kernel_size=[3, 3], padding='same', activation=tf.nn.relu)(pool1)\n",
        "    pool2 = keras.layers.MaxPool2D()(conv2)\n",
        "    conv3 = keras.layers.Conv2D(filters=128, kernel_size=[3, 3], padding='same', activation=tf.nn.relu)(pool2)\n",
        "    pool3 = keras.layers.MaxPool2D()(conv3)\n",
        "\n",
        "    trans = keras.layers.Permute((2,1,3))(pool3)     # 확실히 시간순으로 lstm에 학습을 안하면 overfitting만 된다. 정확도 50%\n",
        "    reshape = keras.layers.Reshape((-1, 16*128))(trans) # 열 개수(freq축)*ch\n",
        "    linear = keras.layers.Dense(512)(reshape)\n",
        "    lstm = keras.layers.Bidirectional(keras.layers.LSTM(128, return_sequences=False, dropout=0.5))(linear)\n",
        "\n",
        "    fc = keras.layers.Dense(128)(lstm)\n",
        "    drop = keras.layers.Dropout(0.5)(fc) # 없어도 77%는 나오네\n",
        "    output = keras.layers.Dense(7)(drop)\n",
        "    return keras.Model(inputs=inputs, outputs=output)"
      ],
      "execution_count": null,
      "outputs": []
    },
    {
      "cell_type": "code",
      "metadata": {
        "colab": {
          "base_uri": "https://localhost:8080/"
        },
        "id": "IIxR_4KLyXAe",
        "outputId": "9ca19d1c-ec4c-4e62-f799-e505945db220"
      },
      "source": [
        "model = create_model()\n",
        "model.summary()"
      ],
      "execution_count": null,
      "outputs": [
        {
          "output_type": "stream",
          "name": "stdout",
          "text": [
            "Model: \"model\"\n",
            "_________________________________________________________________\n",
            "Layer (type)                 Output Shape              Param #   \n",
            "=================================================================\n",
            "input_1 (InputLayer)         [(None, 128, 128, 3)]     0         \n",
            "_________________________________________________________________\n",
            "conv2d (Conv2D)              (None, 128, 128, 32)      896       \n",
            "_________________________________________________________________\n",
            "max_pooling2d (MaxPooling2D) (None, 64, 64, 32)        0         \n",
            "_________________________________________________________________\n",
            "conv2d_1 (Conv2D)            (None, 64, 64, 64)        18496     \n",
            "_________________________________________________________________\n",
            "max_pooling2d_1 (MaxPooling2 (None, 32, 32, 64)        0         \n",
            "_________________________________________________________________\n",
            "conv2d_2 (Conv2D)            (None, 32, 32, 128)       73856     \n",
            "_________________________________________________________________\n",
            "max_pooling2d_2 (MaxPooling2 (None, 16, 16, 128)       0         \n",
            "_________________________________________________________________\n",
            "permute (Permute)            (None, 16, 16, 128)       0         \n",
            "_________________________________________________________________\n",
            "reshape (Reshape)            (None, 16, 2048)          0         \n",
            "_________________________________________________________________\n",
            "dense (Dense)                (None, 16, 512)           1049088   \n",
            "_________________________________________________________________\n",
            "bidirectional (Bidirectional (None, 256)               656384    \n",
            "_________________________________________________________________\n",
            "dense_1 (Dense)              (None, 128)               32896     \n",
            "_________________________________________________________________\n",
            "dropout (Dropout)            (None, 128)               0         \n",
            "_________________________________________________________________\n",
            "dense_2 (Dense)              (None, 7)                 903       \n",
            "=================================================================\n",
            "Total params: 1,832,519\n",
            "Trainable params: 1,832,519\n",
            "Non-trainable params: 0\n",
            "_________________________________________________________________\n"
          ]
        }
      ]
    },
    {
      "cell_type": "code",
      "metadata": {
        "colab": {
          "base_uri": "https://localhost:8080/"
        },
        "id": "LDbPf0WtygoC",
        "outputId": "877e1c3a-bc49-4c07-c90c-05da66c5d9dc"
      },
      "source": [
        "kfold(5, create_model, X, Y, 0.001, 100, 120, 10)\n",
        "# 특히 3D데이터를 쓰고 loss가 매우 작은 수에서 논다. lr decay가 필요할듯"
      ],
      "execution_count": null,
      "outputs": [
        {
          "output_type": "stream",
          "name": "stdout",
          "text": [
            "Learning started. k=5\n",
            "<<fold 1>>\n",
            "Epoch\tloss\t\ttrain acc\ttest acc\n",
            "10  \t0.7028  \t0.7739  \t0.6393\n",
            "20  \t0.2592  \t0.9275  \t0.6834\n",
            "30  \t0.0486  \t0.9937  \t0.7926\n",
            "40  \t0.0058  \t1.0000  \t0.7876\n",
            "50  \t0.0026  \t1.0000  \t0.7986\n",
            "60  \t0.0017  \t1.0000  \t0.7876\n",
            "70  \t0.0010  \t1.0000  \t0.8086\n",
            "80  \t0.0006  \t1.0000  \t0.7976\n",
            "90  \t0.0006  \t1.0000  \t0.8046\n",
            "100  \t0.0012  \t1.0000  \t0.8046\n",
            "110  \t0.0004  \t1.0000  \t0.8146\n",
            "120  \t0.0004  \t1.0000  \t0.8086\n",
            "max train accuracy: 1.0000\n",
            "max test accuracy: 0.8207\n",
            "<<fold 2>>\n",
            "Epoch\tloss\t\ttrain acc\ttest acc\n",
            "10  \t0.7538  \t0.7322  \t0.6765\n",
            "20  \t0.2530  \t0.9350  \t0.6571\n",
            "30  \t0.0243  \t0.9987  \t0.7730\n",
            "40  \t0.0489  \t0.9950  \t0.7204\n",
            "50  \t0.0036  \t1.0000  \t0.7880\n",
            "60  \t0.0010  \t1.0000  \t0.7598\n",
            "70  \t0.0006  \t1.0000  \t0.7809\n",
            "80  \t0.0005  \t1.0000  \t0.7780\n",
            "90  \t0.0007  \t1.0000  \t0.7820\n",
            "100  \t0.0005  \t1.0000  \t0.7891\n",
            "110  \t0.0004  \t1.0000  \t0.7952\n",
            "120  \t0.0005  \t1.0000  \t0.7870\n",
            "max train accuracy: 1.0000\n",
            "max test accuracy: 0.8174\n",
            "<<fold 3>>\n",
            "Epoch\tloss\t\ttrain acc\ttest acc\n",
            "10  \t0.7340  \t0.7528  \t0.6504\n",
            "20  \t0.2987  \t0.9257  \t0.7109\n",
            "30  \t0.1150  \t0.9787  \t0.7935\n",
            "40  \t0.0071  \t1.0000  \t0.8229\n",
            "50  \t0.0025  \t1.0000  \t0.8329\n",
            "60  \t0.0016  \t1.0000  \t0.8379\n",
            "70  \t0.0010  \t1.0000  \t0.8229\n",
            "80  \t0.0011  \t1.0000  \t0.8229\n",
            "90  \t0.0005  \t1.0000  \t0.8340\n",
            "100  \t0.0005  \t1.0000  \t0.8229\n",
            "110  \t0.0003  \t1.0000  \t0.8279\n",
            "120  \t0.0003  \t1.0000  \t0.8218\n",
            "max train accuracy: 1.0000\n",
            "max test accuracy: 0.8440\n",
            "<<fold 4>>\n",
            "Epoch\tloss\t\ttrain acc\ttest acc\n",
            "10  \t0.9938  \t0.6343  \t0.6188\n",
            "20  \t0.3740  \t0.8938  \t0.6893\n",
            "30  \t0.0957  \t0.9937  \t0.7591\n",
            "40  \t0.0126  \t1.0000  \t0.7885\n",
            "50  \t0.0027  \t1.0000  \t0.8257\n",
            "60  \t0.0014  \t1.0000  \t0.8246\n",
            "70  \t0.0017  \t1.0000  \t0.8357\n",
            "80  \t0.0021  \t1.0000  \t0.8085\n",
            "90  \t0.0010  \t1.0000  \t0.8085\n",
            "100  \t0.0008  \t1.0000  \t0.8207\n",
            "110  \t0.0004  \t1.0000  \t0.8246\n",
            "120  \t0.0003  \t1.0000  \t0.8296\n",
            "max train accuracy: 1.0000\n",
            "max test accuracy: 0.8418\n",
            "<<fold 5>>\n",
            "Epoch\tloss\t\ttrain acc\ttest acc\n",
            "10  \t0.7628  \t0.7408  \t0.6438\n",
            "20  \t0.2157  \t0.9532  \t0.7459\n",
            "30  \t0.0708  \t0.9963  \t0.7702\n",
            "40  \t0.0069  \t1.0000  \t0.7598\n",
            "50  \t0.0022  \t1.0000  \t0.7902\n",
            "60  \t0.0020  \t1.0000  \t0.8024\n",
            "70  \t0.0010  \t1.0000  \t0.8074\n",
            "80  \t0.0006  \t1.0000  \t0.7863\n",
            "90  \t0.0007  \t1.0000  \t0.7791\n",
            "100  \t0.0009  \t1.0000  \t0.8085\n",
            "110  \t0.0004  \t1.0000  \t0.7863\n",
            "120  \t0.0004  \t1.0000  \t0.7863\n",
            "max train accuracy: 1.0000\n",
            "max test accuracy: 0.8085\n",
            "\n",
            "Learning Finished!\n",
            "average train accuracy: 1.0000\n",
            "average test accuracy: 0.8265\n",
            "test std: 0.0140\n",
            "\n",
            "\tanger\tboredom\tdisgust\tfear\thappy\tsad\tneutral\t#\n",
            "anger\t89 \t 0 \t 2 \t 1 \t 8 \t 0 \t 0 \t202 \n",
            "boredom\t 0 \t72 \t 4 \t 1 \t 1 \t12 \t11 \t137 \n",
            "disgust\t 1 \t 4 \t81 \t 0 \t 5 \t 4 \t 4 \t97 \n",
            "fear\t 5 \t 2 \t 1 \t71 \t15 \t 0 \t 5 \t93 \n",
            "happy\t25 \t 0 \t 5 \t 5 \t64 \t 0 \t 2 \t106 \n",
            "sad\t 0 \t 7 \t 1 \t 0 \t 0 \t92 \t 0 \t167 \n",
            "neutral\t 1 \t12 \t 1 \t 1 \t 1 \t 2 \t83 \t109 \n"
          ]
        }
      ]
    }
  ]
}