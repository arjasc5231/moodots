{
  "nbformat": 4,
  "nbformat_minor": 0,
  "metadata": {
    "colab": {
      "name": "CNNonMFCC.ipynb",
      "provenance": [],
      "mount_file_id": "1GtthYjNCPbdUwhkju_cyt_aqb8Jt7yGr",
      "authorship_tag": "ABX9TyMEnuplIZXv7SDX4IstLBm0",
      "include_colab_link": true
    },
    "kernelspec": {
      "name": "python3",
      "display_name": "Python 3"
    },
    "language_info": {
      "name": "python"
    },
    "accelerator": "GPU"
  },
  "cells": [
    {
      "cell_type": "markdown",
      "metadata": {
        "id": "view-in-github",
        "colab_type": "text"
      },
      "source": [
        "<a href=\"https://colab.research.google.com/github/arjasc5231/moodots/blob/main/SER/CNN/CNNonMFCC.ipynb\" target=\"_parent\"><img src=\"https://colab.research.google.com/assets/colab-badge.svg\" alt=\"Open In Colab\"/></a>"
      ]
    },
    {
      "cell_type": "code",
      "metadata": {
        "id": "9iI8jKgULPV_"
      },
      "source": [
        "import tensorflow as tf\n",
        "from tensorflow import keras\n",
        "from tensorflow.keras.utils import to_categorical\n",
        "import numpy as np\n",
        "import matplotlib.pyplot as plt\n",
        "import os"
      ],
      "execution_count": null,
      "outputs": []
    },
    {
      "cell_type": "code",
      "metadata": {
        "id": "dOcuV6s4MEFw"
      },
      "source": [
        "learning_rate = 0.001\n",
        "training_epochs = 60\n",
        "batch_size = 100"
      ],
      "execution_count": null,
      "outputs": []
    },
    {
      "cell_type": "code",
      "metadata": {
        "colab": {
          "base_uri": "https://localhost:8080/"
        },
        "id": "Srm3eVVJuJNB",
        "outputId": "bddc1d06-e457-4dec-e87e-e351651083a9"
      },
      "source": [
        "mel_X_train, mel_X_test, mel_Y_train, mel_Y_test = np.load(\"/content/drive/MyDrive/team_runner/colab/dataset/emoDB/emo_mfcc_more.npy\", allow_pickle=True)\n",
        "\n",
        "print(mel_X_train.shape)\n",
        "print(mel_Y_train.shape)\n",
        "print(mel_X_test.shape)\n",
        "print(mel_Y_test.shape)"
      ],
      "execution_count": null,
      "outputs": [
        {
          "output_type": "stream",
          "name": "stdout",
          "text": [
            "(683, 20, 128)\n",
            "(683,)\n",
            "(228, 20, 128)\n",
            "(228,)\n"
          ]
        }
      ]
    },
    {
      "cell_type": "code",
      "metadata": {
        "id": "T50eCGEAyRXu"
      },
      "source": [
        "mel_X_train = np.expand_dims(mel_X_train, axis=-1)\n",
        "mel_X_test = np.expand_dims(mel_X_test, axis=-1)\n",
        "\n",
        "mel_Y_train = to_categorical(mel_Y_train, 7)\n",
        "mel_Y_test = to_categorical(mel_Y_test, 7)    \n",
        "\n",
        "mel_train_dataset = tf.data.Dataset.from_tensor_slices((mel_X_train, mel_Y_train)).shuffle(\n",
        "                buffer_size=100000).batch(batch_size)\n",
        "mel_test_dataset = tf.data.Dataset.from_tensor_slices((mel_X_test, mel_Y_test)).batch(batch_size)\n"
      ],
      "execution_count": null,
      "outputs": []
    },
    {
      "cell_type": "code",
      "metadata": {
        "id": "Q6Uu2gRdyUep"
      },
      "source": [
        "def create_model():\n",
        "    model = keras.Sequential()\n",
        "    model.add(keras.layers.Conv2D(filters=32, kernel_size=3, activation=tf.nn.relu, padding='SAME', \n",
        "                                  input_shape=(20, 128, 1)))\n",
        "    model.add(keras.layers.MaxPool2D(padding='SAME'))\n",
        "    model.add(keras.layers.Conv2D(filters=64, kernel_size=3, activation=tf.nn.relu, padding='SAME'))\n",
        "    model.add(keras.layers.MaxPool2D(padding='SAME'))\n",
        "    model.add(keras.layers.Conv2D(filters=128, kernel_size=3, activation=tf.nn.relu, padding='SAME'))\n",
        "    model.add(keras.layers.MaxPool2D(padding='SAME'))\n",
        "    model.add(keras.layers.Flatten())\n",
        "    model.add(keras.layers.Dense(256, activation=tf.nn.relu))\n",
        "    model.add(keras.layers.Dropout(0.5))\n",
        "    model.add(keras.layers.Dense(128, activation=tf.nn.relu))\n",
        "    model.add(keras.layers.Dropout(0.5))\n",
        "    model.add(keras.layers.Dense(64, activation=tf.nn.relu))\n",
        "    model.add(keras.layers.Dropout(0.5))\n",
        "    model.add(keras.layers.Dense(7))\n",
        "    return model"
      ],
      "execution_count": null,
      "outputs": []
    },
    {
      "cell_type": "code",
      "metadata": {
        "colab": {
          "base_uri": "https://localhost:8080/"
        },
        "id": "IIxR_4KLyXAe",
        "outputId": "31ac975b-8112-4ac8-ac66-b358e1fb227d"
      },
      "source": [
        "model = create_model()\n",
        "model.summary()"
      ],
      "execution_count": null,
      "outputs": [
        {
          "output_type": "stream",
          "name": "stdout",
          "text": [
            "Model: \"sequential\"\n",
            "_________________________________________________________________\n",
            "Layer (type)                 Output Shape              Param #   \n",
            "=================================================================\n",
            "conv2d (Conv2D)              (None, 20, 128, 32)       320       \n",
            "_________________________________________________________________\n",
            "max_pooling2d (MaxPooling2D) (None, 10, 64, 32)        0         \n",
            "_________________________________________________________________\n",
            "conv2d_1 (Conv2D)            (None, 10, 64, 64)        18496     \n",
            "_________________________________________________________________\n",
            "max_pooling2d_1 (MaxPooling2 (None, 5, 32, 64)         0         \n",
            "_________________________________________________________________\n",
            "conv2d_2 (Conv2D)            (None, 5, 32, 128)        73856     \n",
            "_________________________________________________________________\n",
            "max_pooling2d_2 (MaxPooling2 (None, 3, 16, 128)        0         \n",
            "_________________________________________________________________\n",
            "flatten (Flatten)            (None, 6144)              0         \n",
            "_________________________________________________________________\n",
            "dense (Dense)                (None, 256)               1573120   \n",
            "_________________________________________________________________\n",
            "dropout (Dropout)            (None, 256)               0         \n",
            "_________________________________________________________________\n",
            "dense_1 (Dense)              (None, 128)               32896     \n",
            "_________________________________________________________________\n",
            "dropout_1 (Dropout)          (None, 128)               0         \n",
            "_________________________________________________________________\n",
            "dense_2 (Dense)              (None, 64)                8256      \n",
            "_________________________________________________________________\n",
            "dropout_2 (Dropout)          (None, 64)                0         \n",
            "_________________________________________________________________\n",
            "dense_3 (Dense)              (None, 7)                 455       \n",
            "=================================================================\n",
            "Total params: 1,707,399\n",
            "Trainable params: 1,707,399\n",
            "Non-trainable params: 0\n",
            "_________________________________________________________________\n"
          ]
        }
      ]
    },
    {
      "cell_type": "code",
      "metadata": {
        "id": "e-0PiEFdyY7T"
      },
      "source": [
        "def loss_fn(model, images, labels):\n",
        "    logits = model(images, training=True)\n",
        "    loss = tf.reduce_mean(tf.keras.losses.categorical_crossentropy(\n",
        "        y_pred=logits, y_true=labels, from_logits=True))    \n",
        "    return loss"
      ],
      "execution_count": null,
      "outputs": []
    },
    {
      "cell_type": "code",
      "metadata": {
        "id": "W5x6EkHUybJv"
      },
      "source": [
        "def grad(model, images, labels):\n",
        "    with tf.GradientTape() as tape:\n",
        "        loss = loss_fn(model, images, labels)\n",
        "    return tape.gradient(loss, model.variables)"
      ],
      "execution_count": null,
      "outputs": []
    },
    {
      "cell_type": "code",
      "metadata": {
        "id": "v7AdZJecycsD"
      },
      "source": [
        "def evaluate(model, images, labels):\n",
        "    logits = model(images, training=False)\n",
        "    correct_prediction = tf.equal(tf.argmax(logits, 1), tf.argmax(labels, 1))\n",
        "    accuracy = tf.reduce_mean(tf.cast(correct_prediction, tf.float32))\n",
        "    return accuracy"
      ],
      "execution_count": null,
      "outputs": []
    },
    {
      "cell_type": "code",
      "metadata": {
        "id": "sQEPnkEpyfHP"
      },
      "source": [
        "optimizer = tf.optimizers.Adam(learning_rate=learning_rate)"
      ],
      "execution_count": null,
      "outputs": []
    },
    {
      "cell_type": "code",
      "metadata": {
        "colab": {
          "base_uri": "https://localhost:8080/"
        },
        "id": "LDbPf0WtygoC",
        "outputId": "c73c1ef9-af68-4672-9eb4-1d831fedff9c"
      },
      "source": [
        "print('Learning started. It takes sometime.')\n",
        "for epoch in range(training_epochs):\n",
        "    avg_loss = 0.\n",
        "    avg_train_acc = 0.\n",
        "    avg_test_acc = 0.\n",
        "    train_step = 0\n",
        "    test_step = 0\n",
        "    \n",
        "    for images, labels in mel_train_dataset:\n",
        "        grads = grad(model, images, labels)                \n",
        "        optimizer.apply_gradients(zip(grads, model.variables))\n",
        "        loss = loss_fn(model, images, labels)\n",
        "        acc = evaluate(model, images, labels)\n",
        "        avg_loss = avg_loss + loss\n",
        "        avg_train_acc = avg_train_acc + acc\n",
        "        train_step += 1\n",
        "    avg_loss = avg_loss / train_step\n",
        "    avg_train_acc = avg_train_acc / train_step\n",
        "    \n",
        "    for images, labels in mel_test_dataset:        \n",
        "        acc = evaluate(model, images, labels)        \n",
        "        avg_test_acc = avg_test_acc + acc\n",
        "        test_step += 1    \n",
        "    avg_test_acc = avg_test_acc / test_step    \n",
        "\n",
        "    print('Epoch:', '{}'.format(epoch + 1), 'loss =', '{:.8f}'.format(avg_loss), \n",
        "          'train accuracy = ', '{:.4f}'.format(avg_train_acc), \n",
        "          'test accuracy = ', '{:.4f}'.format(avg_test_acc))\n",
        "\n",
        "print('Learning Finished!')"
      ],
      "execution_count": null,
      "outputs": [
        {
          "output_type": "stream",
          "name": "stdout",
          "text": [
            "Learning started. It takes sometime.\n",
            "Epoch: 1 loss = 0.41242963 train accuracy =  0.9354 test accuracy =  0.4824\n",
            "Epoch: 2 loss = 0.43618998 train accuracy =  0.9111 test accuracy =  0.4790\n",
            "Epoch: 3 loss = 0.47035724 train accuracy =  0.9168 test accuracy =  0.4762\n",
            "Epoch: 4 loss = 0.44763574 train accuracy =  0.8985 test accuracy =  0.4776\n",
            "Epoch: 5 loss = 0.45173672 train accuracy =  0.9254 test accuracy =  0.4571\n",
            "Epoch: 6 loss = 0.45888716 train accuracy =  0.9277 test accuracy =  0.4824\n",
            "Epoch: 7 loss = 0.44646755 train accuracy =  0.9362 test accuracy =  0.4638\n",
            "Epoch: 8 loss = 0.47105995 train accuracy =  0.8979 test accuracy =  0.5029\n",
            "Epoch: 9 loss = 0.44951898 train accuracy =  0.9303 test accuracy =  0.4862\n",
            "Epoch: 10 loss = 0.48037454 train accuracy =  0.9185 test accuracy =  0.4924\n",
            "Epoch: 11 loss = 0.43275520 train accuracy =  0.9219 test accuracy =  0.4910\n",
            "Epoch: 12 loss = 0.47037092 train accuracy =  0.9268 test accuracy =  0.4676\n",
            "Epoch: 13 loss = 0.49097794 train accuracy =  0.9140 test accuracy =  0.4895\n",
            "Epoch: 14 loss = 0.47872671 train accuracy =  0.9506 test accuracy =  0.4676\n",
            "Epoch: 15 loss = 0.46379262 train accuracy =  0.9214 test accuracy =  0.5010\n",
            "Epoch: 16 loss = 0.41593501 train accuracy =  0.9208 test accuracy =  0.4929\n",
            "Epoch: 17 loss = 0.43960360 train accuracy =  0.9463 test accuracy =  0.4748\n",
            "Epoch: 18 loss = 0.42667180 train accuracy =  0.9296 test accuracy =  0.4929\n",
            "Epoch: 19 loss = 0.41546974 train accuracy =  0.9337 test accuracy =  0.4743\n",
            "Epoch: 20 loss = 0.39371425 train accuracy =  0.9448 test accuracy =  0.5114\n",
            "Epoch: 21 loss = 0.37419567 train accuracy =  0.9434 test accuracy =  0.5010\n",
            "Epoch: 22 loss = 0.35594088 train accuracy =  0.9406 test accuracy =  0.4910\n",
            "Epoch: 23 loss = 0.35837069 train accuracy =  0.9399 test accuracy =  0.5076\n",
            "Epoch: 24 loss = 0.34862760 train accuracy =  0.9508 test accuracy =  0.4995\n",
            "Epoch: 25 loss = 0.37232986 train accuracy =  0.9497 test accuracy =  0.4590\n",
            "Epoch: 26 loss = 0.32646433 train accuracy =  0.9480 test accuracy =  0.4776\n",
            "Epoch: 27 loss = 0.34828430 train accuracy =  0.9614 test accuracy =  0.5062\n",
            "Epoch: 28 loss = 0.39947790 train accuracy =  0.9425 test accuracy =  0.4981\n",
            "Epoch: 29 loss = 0.40227440 train accuracy =  0.9563 test accuracy =  0.4824\n",
            "Epoch: 30 loss = 0.41226584 train accuracy =  0.9525 test accuracy =  0.4305\n",
            "Epoch: 31 loss = 0.38675913 train accuracy =  0.9585 test accuracy =  0.4505\n",
            "Epoch: 32 loss = 0.39658231 train accuracy =  0.9591 test accuracy =  0.4610\n",
            "Epoch: 33 loss = 0.41011539 train accuracy =  0.9545 test accuracy =  0.4457\n",
            "Epoch: 34 loss = 0.46122932 train accuracy =  0.9525 test accuracy =  0.4576\n",
            "Epoch: 35 loss = 0.40725616 train accuracy =  0.9425 test accuracy =  0.4862\n",
            "Epoch: 36 loss = 0.39098927 train accuracy =  0.9477 test accuracy =  0.4643\n",
            "Epoch: 37 loss = 0.35225508 train accuracy =  0.9720 test accuracy =  0.4762\n",
            "Epoch: 38 loss = 0.42492223 train accuracy =  0.9566 test accuracy =  0.5062\n",
            "Epoch: 39 loss = 0.34859103 train accuracy =  0.9620 test accuracy =  0.4676\n",
            "Epoch: 40 loss = 0.36769912 train accuracy =  0.9617 test accuracy =  0.5133\n",
            "Epoch: 41 loss = 0.35873541 train accuracy =  0.9654 test accuracy =  0.4810\n",
            "Epoch: 42 loss = 0.31669325 train accuracy =  0.9706 test accuracy =  0.4881\n",
            "Epoch: 43 loss = 0.36346531 train accuracy =  0.9737 test accuracy =  0.4862\n",
            "Epoch: 44 loss = 0.37763858 train accuracy =  0.9806 test accuracy =  0.4995\n",
            "Epoch: 45 loss = 0.28153262 train accuracy =  0.9723 test accuracy =  0.5148\n",
            "Epoch: 46 loss = 0.33763656 train accuracy =  0.9708 test accuracy =  0.4724\n",
            "Epoch: 47 loss = 0.33290744 train accuracy =  0.9820 test accuracy =  0.4995\n",
            "Epoch: 48 loss = 0.34044999 train accuracy =  0.9774 test accuracy =  0.4862\n",
            "Epoch: 49 loss = 0.32179651 train accuracy =  0.9631 test accuracy =  0.4590\n",
            "Epoch: 50 loss = 0.33218724 train accuracy =  0.9614 test accuracy =  0.4757\n",
            "Epoch: 51 loss = 0.27584770 train accuracy =  0.9777 test accuracy =  0.4910\n",
            "Epoch: 52 loss = 0.31074959 train accuracy =  0.9911 test accuracy =  0.4624\n",
            "Epoch: 53 loss = 0.31530926 train accuracy =  0.9823 test accuracy =  0.4810\n",
            "Epoch: 54 loss = 0.25682768 train accuracy =  0.9820 test accuracy =  0.4962\n",
            "Epoch: 55 loss = 0.30620337 train accuracy =  0.9808 test accuracy =  0.4862\n",
            "Epoch: 56 loss = 0.33543667 train accuracy =  0.9840 test accuracy =  0.4643\n",
            "Epoch: 57 loss = 0.32950148 train accuracy =  0.9811 test accuracy =  0.5014\n",
            "Epoch: 58 loss = 0.35872442 train accuracy =  0.9711 test accuracy =  0.4695\n",
            "Epoch: 59 loss = 0.34860939 train accuracy =  0.9854 test accuracy =  0.4757\n",
            "Epoch: 60 loss = 0.26449400 train accuracy =  0.9857 test accuracy =  0.4605\n",
            "Learning Finished!\n"
          ]
        }
      ]
    },
    {
      "cell_type": "code",
      "metadata": {
        "id": "jHnz_IrJykNN",
        "colab": {
          "base_uri": "https://localhost:8080/"
        },
        "outputId": "97e3e6fa-12bd-4c4e-e2e0-7384ce3ea6bb"
      },
      "source": [
        "conf_mat = [[0]*7 for i in range(7)] #mat[real_label]=predicted_label list\n",
        "\n",
        "for images, labels in mel_test_dataset:\n",
        "  logits = model(images, training=False)\n",
        "  logits_max = tf.math.argmax(logits,1)\n",
        "  labels_max = tf.math.argmax(labels,1)\n",
        "  for i in range(len(logits)): conf_mat[logits_max[i]][labels_max[i]]+=1\n",
        "\n",
        "for i in range(7): print(conf_mat[i])"
      ],
      "execution_count": null,
      "outputs": [
        {
          "output_type": "stream",
          "name": "stdout",
          "text": [
            "[49, 1, 2, 3, 12, 0, 0]\n",
            "[0, 27, 0, 0, 1, 5, 4]\n",
            "[1, 4, 21, 1, 3, 0, 0]\n",
            "[2, 3, 0, 3, 0, 0, 0]\n",
            "[0, 0, 0, 3, 9, 0, 3]\n",
            "[0, 3, 1, 2, 2, 33, 1]\n",
            "[1, 4, 1, 4, 1, 0, 18]\n"
          ]
        }
      ]
    },
    {
      "cell_type": "code",
      "metadata": {
        "colab": {
          "base_uri": "https://localhost:8080/"
        },
        "id": "uRQFL0_RYqVU",
        "outputId": "411201e0-d2b5-43d6-ae43-5674aa5c5a31"
      },
      "source": [
        "conf_mat_normal = []\n",
        "for i in range(7):\n",
        "  s = sum(conf_mat[i])\n",
        "  conf_mat_normal.append(list(map(lambda x:(x/s)*100, conf_mat[i])))\n",
        "\n",
        "label = ['anger','boredom','disgust','fear','happy','sad','neutral']\n",
        "print('\\t'+'\\t'.join(label))\n",
        "for i in range(7):\n",
        "  print(label[i], end='')\n",
        "  for j in range(7): print('\\t%2.0f'%conf_mat_normal[i][j], end=' ')\n",
        "  print()\n",
        "# fear의 데이터가 8개밖에 없다. -> kfold해봄"
      ],
      "execution_count": null,
      "outputs": [
        {
          "output_type": "stream",
          "name": "stdout",
          "text": [
            "\tanger\tboredom\tdisgust\tfear\thappy\tsad\tneutral\n",
            "anger\t73 \t 1 \t 3 \t 4 \t18 \t 0 \t 0 \n",
            "boredom\t 0 \t73 \t 0 \t 0 \t 3 \t14 \t11 \n",
            "disgust\t 3 \t13 \t70 \t 3 \t10 \t 0 \t 0 \n",
            "fear\t25 \t38 \t 0 \t38 \t 0 \t 0 \t 0 \n",
            "happy\t 0 \t 0 \t 0 \t20 \t60 \t 0 \t20 \n",
            "sad\t 0 \t 7 \t 2 \t 5 \t 5 \t79 \t 2 \n",
            "neutral\t 3 \t14 \t 3 \t14 \t 3 \t 0 \t62 \n"
          ]
        }
      ]
    }
  ]
}