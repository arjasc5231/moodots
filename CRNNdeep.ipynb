{
  "nbformat": 4,
  "nbformat_minor": 0,
  "metadata": {
    "colab": {
      "name": "CRNNdeep.ipynb",
      "provenance": [],
      "collapsed_sections": [],
      "mount_file_id": "1SCm_OeMAqDKLU8_iMQam0_gYoNOw18h7",
      "authorship_tag": "ABX9TyMhKX0CEo5Tj+d7X24VLnZU",
      "include_colab_link": true
    },
    "kernelspec": {
      "name": "python3",
      "display_name": "Python 3"
    },
    "language_info": {
      "name": "python"
    },
    "accelerator": "GPU"
  },
  "cells": [
    {
      "cell_type": "markdown",
      "metadata": {
        "id": "view-in-github",
        "colab_type": "text"
      },
      "source": [
        "<a href=\"https://colab.research.google.com/github/arjasc5231/moodots/blob/ACRNN/CRNNdeep.ipynb\" target=\"_parent\"><img src=\"https://colab.research.google.com/assets/colab-badge.svg\" alt=\"Open In Colab\"/></a>"
      ]
    },
    {
      "cell_type": "code",
      "metadata": {
        "id": "9iI8jKgULPV_"
      },
      "source": [
        "import tensorflow as tf\n",
        "from tensorflow import keras\n",
        "from tensorflow.keras.utils import to_categorical\n",
        "import numpy as np\n",
        "import matplotlib.pyplot as plt\n",
        "import os"
      ],
      "execution_count": 1,
      "outputs": []
    },
    {
      "cell_type": "code",
      "metadata": {
        "id": "dOcuV6s4MEFw"
      },
      "source": [
        "learning_rate = 0.001\n",
        "training_epochs = 60\n",
        "batch_size = 100"
      ],
      "execution_count": 2,
      "outputs": []
    },
    {
      "cell_type": "code",
      "metadata": {
        "colab": {
          "base_uri": "https://localhost:8080/"
        },
        "id": "Srm3eVVJuJNB",
        "outputId": "6215c4b0-ed39-48ca-a066-b79501db4caf"
      },
      "source": [
        "mel_X_train, mel_X_test, mel_Y_train, mel_Y_test = np.load(\"/content/drive/MyDrive/team_runner/colab/dataset/emoDB/emo_mel_more.npy\", allow_pickle=True)\n",
        "\n",
        "print(mel_X_train.shape)\n",
        "print(mel_Y_train.shape)\n",
        "print(mel_X_test.shape)\n",
        "print(mel_Y_test.shape)"
      ],
      "execution_count": 3,
      "outputs": [
        {
          "output_type": "stream",
          "name": "stdout",
          "text": [
            "(683, 128, 128)\n",
            "(683,)\n",
            "(228, 128, 128)\n",
            "(228,)\n"
          ]
        }
      ]
    },
    {
      "cell_type": "code",
      "metadata": {
        "id": "T50eCGEAyRXu"
      },
      "source": [
        "mel_X_train = np.expand_dims(mel_X_train, axis=-1)\n",
        "mel_X_test = np.expand_dims(mel_X_test, axis=-1)\n",
        "\n",
        "mel_Y_train = to_categorical(mel_Y_train, 7)\n",
        "mel_Y_test = to_categorical(mel_Y_test, 7)    \n",
        "\n",
        "mel_train_dataset = tf.data.Dataset.from_tensor_slices((mel_X_train, mel_Y_train)).batch(batch_size)\n",
        "mel_test_dataset = tf.data.Dataset.from_tensor_slices((mel_X_test, mel_Y_test)).batch(batch_size)"
      ],
      "execution_count": 4,
      "outputs": []
    },
    {
      "cell_type": "code",
      "metadata": {
        "id": "Q6Uu2gRdyUep"
      },
      "source": [
        "def create_model():\n",
        "    inputs = keras.Input(shape=(128, 128, 1))\n",
        "    conv1 = keras.layers.Conv2D(filters=32, kernel_size=[3, 3], padding='same', activation=tf.nn.relu)(inputs)\n",
        "    pool1 = keras.layers.MaxPool2D()(conv1)\n",
        "    conv2 = keras.layers.Conv2D(filters=64, kernel_size=[3, 3], padding='same', activation=tf.nn.relu)(pool1)\n",
        "    pool2 = keras.layers.MaxPool2D()(conv2)\n",
        "    conv3 = keras.layers.Conv2D(filters=128, kernel_size=[3, 3], padding='same', activation=tf.nn.relu)(pool2)\n",
        "    pool3 = keras.layers.MaxPool2D()(conv3)\n",
        "\n",
        "    trans = keras.layers.Permute((2,1,3))(pool3)\n",
        "    reshape = keras.layers.Reshape((-1, 16*128))(trans) # 열 개수(freq축)*ch\n",
        "    lstm = keras.layers.Bidirectional(keras.layers.LSTM(128, return_sequences=False, dropout=0.5))(reshape)\n",
        "\n",
        "    fc = keras.layers.Dense(128)(lstm)\n",
        "    drop = keras.layers.Dropout(0.5)(fc)\n",
        "    output = keras.layers.Dense(7)(drop)\n",
        "    return keras.Model(inputs=inputs, outputs=output)"
      ],
      "execution_count": 23,
      "outputs": []
    },
    {
      "cell_type": "code",
      "metadata": {
        "colab": {
          "base_uri": "https://localhost:8080/"
        },
        "id": "IIxR_4KLyXAe",
        "outputId": "9f349d11-5c42-41dd-c79b-7080b6c44702"
      },
      "source": [
        "model = create_model()\n",
        "model.summary()"
      ],
      "execution_count": 24,
      "outputs": [
        {
          "output_type": "stream",
          "name": "stdout",
          "text": [
            "Model: \"model_3\"\n",
            "_________________________________________________________________\n",
            "Layer (type)                 Output Shape              Param #   \n",
            "=================================================================\n",
            "input_6 (InputLayer)         [(None, 128, 128, 1)]     0         \n",
            "_________________________________________________________________\n",
            "conv2d_21 (Conv2D)           (None, 128, 128, 32)      320       \n",
            "_________________________________________________________________\n",
            "max_pooling2d_15 (MaxPooling (None, 64, 64, 32)        0         \n",
            "_________________________________________________________________\n",
            "conv2d_22 (Conv2D)           (None, 64, 64, 64)        18496     \n",
            "_________________________________________________________________\n",
            "max_pooling2d_16 (MaxPooling (None, 32, 32, 64)        0         \n",
            "_________________________________________________________________\n",
            "conv2d_23 (Conv2D)           (None, 32, 32, 128)       73856     \n",
            "_________________________________________________________________\n",
            "max_pooling2d_17 (MaxPooling (None, 16, 16, 128)       0         \n",
            "_________________________________________________________________\n",
            "permute_5 (Permute)          (None, 16, 16, 128)       0         \n",
            "_________________________________________________________________\n",
            "reshape_5 (Reshape)          (None, 16, 2048)          0         \n",
            "_________________________________________________________________\n",
            "bidirectional_3 (Bidirection (None, 256)               2229248   \n",
            "_________________________________________________________________\n",
            "dense_5 (Dense)              (None, 128)               32896     \n",
            "_________________________________________________________________\n",
            "dropout_2 (Dropout)          (None, 128)               0         \n",
            "_________________________________________________________________\n",
            "dense_6 (Dense)              (None, 7)                 903       \n",
            "=================================================================\n",
            "Total params: 2,355,719\n",
            "Trainable params: 2,355,719\n",
            "Non-trainable params: 0\n",
            "_________________________________________________________________\n"
          ]
        }
      ]
    },
    {
      "cell_type": "code",
      "metadata": {
        "id": "e-0PiEFdyY7T"
      },
      "source": [
        "def loss_fn(model, images, labels):\n",
        "    logits = model(images, training=True)\n",
        "    loss = tf.reduce_mean(tf.keras.losses.categorical_crossentropy(y_pred=logits, y_true=labels, from_logits=True))    \n",
        "    return loss"
      ],
      "execution_count": 25,
      "outputs": []
    },
    {
      "cell_type": "code",
      "metadata": {
        "id": "W5x6EkHUybJv"
      },
      "source": [
        "def grad(model, images, labels):\n",
        "    with tf.GradientTape() as tape:\n",
        "        loss = loss_fn(model, images, labels)\n",
        "    return tape.gradient(loss, model.variables)"
      ],
      "execution_count": 26,
      "outputs": []
    },
    {
      "cell_type": "code",
      "metadata": {
        "id": "v7AdZJecycsD"
      },
      "source": [
        "def evaluate(model, images, labels):\n",
        "    logits = model(images, training=False)\n",
        "    correct_prediction = tf.equal(tf.argmax(logits, 1), tf.argmax(labels, 1))\n",
        "    accuracy = tf.reduce_mean(tf.cast(correct_prediction, tf.float32))\n",
        "    return accuracy"
      ],
      "execution_count": 27,
      "outputs": []
    },
    {
      "cell_type": "code",
      "metadata": {
        "id": "sQEPnkEpyfHP"
      },
      "source": [
        "optimizer = tf.optimizers.Adam(learning_rate=learning_rate)"
      ],
      "execution_count": 28,
      "outputs": []
    },
    {
      "cell_type": "code",
      "metadata": {
        "colab": {
          "base_uri": "https://localhost:8080/"
        },
        "id": "LDbPf0WtygoC",
        "outputId": "af2e1aa5-1c0d-4988-e30a-bb33c2f5c7a1"
      },
      "source": [
        "print('Learning started. It takes sometime.')\n",
        "print('Epoch\\tloss\\t\\ttrain acc\\ttest acc')\n",
        "for epoch in range(training_epochs):\n",
        "    loss = 0.\n",
        "    train_acc = 0.\n",
        "    test_acc = 0.\n",
        "    \n",
        "    for images, labels in mel_train_dataset:\n",
        "        grads = grad(model, images, labels)                \n",
        "        optimizer.apply_gradients(zip(grads, model.variables)) \n",
        "        loss += loss_fn(model, images, labels)\n",
        "        train_acc += evaluate(model, images, labels)\n",
        "    loss = loss / len(mel_train_dataset)\n",
        "    train_acc = train_acc / len(mel_train_dataset)\n",
        "    \n",
        "    for images, labels in mel_test_dataset:\n",
        "        test_acc += evaluate(model, images, labels)\n",
        "    test_acc = test_acc / len(mel_test_dataset)  \n",
        "\n",
        "    print('{}  \\t{:.4f}  \\t{:.4f}  \\t{:.4f}'.format(epoch+1, loss, train_acc, test_acc))\n",
        "\n",
        "print('Learning Finished!')\n",
        "#55분 시작"
      ],
      "execution_count": 29,
      "outputs": [
        {
          "output_type": "stream",
          "name": "stdout",
          "text": [
            "Learning started. It takes sometime.\n",
            "Epoch\tloss\t\ttrain acc\ttest acc\n",
            "1  \t1.9029  \t0.2261  \t0.2200\n",
            "2  \t1.8259  \t0.3185  \t0.4114\n",
            "3  \t1.6352  \t0.3731  \t0.3790\n",
            "4  \t1.5132  \t0.4308  \t0.4210\n",
            "5  \t1.3855  \t0.4337  \t0.4752\n",
            "6  \t1.2979  \t0.4946  \t0.4867\n",
            "7  \t1.2296  \t0.4940  \t0.5071\n",
            "8  \t1.1574  \t0.5532  \t0.5543\n",
            "9  \t1.0712  \t0.5755  \t0.6076\n",
            "10  \t0.9998  \t0.6118  \t0.5871\n",
            "11  \t0.9569  \t0.6290  \t0.6110\n",
            "12  \t0.9188  \t0.6684  \t0.6171\n",
            "13  \t0.8941  \t0.6669  \t0.6057\n",
            "14  \t0.8517  \t0.6921  \t0.6243\n",
            "15  \t0.8111  \t0.7067  \t0.6005\n",
            "16  \t0.7715  \t0.7101  \t0.6595\n",
            "17  \t0.7342  \t0.7347  \t0.6343\n",
            "18  \t0.7408  \t0.7516  \t0.6290\n",
            "19  \t0.6337  \t0.7967  \t0.7367\n",
            "20  \t0.5536  \t0.8176  \t0.6410\n",
            "21  \t0.5998  \t0.8030  \t0.6343\n",
            "22  \t0.5585  \t0.8110  \t0.7119\n",
            "23  \t0.4700  \t0.8513  \t0.7300\n",
            "24  \t0.3893  \t0.8762  \t0.7014\n",
            "25  \t0.4044  \t0.8751  \t0.7214\n",
            "26  \t0.3812  \t0.8751  \t0.6152\n",
            "27  \t0.4235  \t0.8622  \t0.6490\n",
            "28  \t0.3811  \t0.8968  \t0.7267\n",
            "29  \t0.3256  \t0.9025  \t0.7133\n",
            "30  \t0.3806  \t0.8956  \t0.6967\n",
            "31  \t0.3409  \t0.8894  \t0.6557\n",
            "32  \t0.2856  \t0.9185  \t0.7419\n",
            "33  \t0.2140  \t0.9506  \t0.7010\n",
            "34  \t0.1699  \t0.9766  \t0.7252\n",
            "35  \t0.1737  \t0.9669  \t0.6924\n",
            "36  \t0.1706  \t0.9569  \t0.7500\n",
            "37  \t0.2109  \t0.9480  \t0.6871\n",
            "38  \t0.2146  \t0.9406  \t0.6657\n",
            "39  \t0.2578  \t0.9291  \t0.6757\n",
            "40  \t0.1903  \t0.9520  \t0.6624\n",
            "41  \t0.1778  \t0.9566  \t0.6571\n",
            "42  \t0.1792  \t0.9620  \t0.6681\n",
            "43  \t0.1202  \t0.9854  \t0.7010\n",
            "44  \t0.0837  \t0.9943  \t0.7533\n",
            "45  \t0.0734  \t0.9871  \t0.7486\n",
            "46  \t0.0535  \t0.9943  \t0.7686\n",
            "47  \t0.0642  \t0.9943  \t0.7833\n",
            "48  \t0.0593  \t0.9957  \t0.7348\n",
            "49  \t0.0566  \t0.9854  \t0.7195\n",
            "50  \t0.0746  \t0.9971  \t0.7400\n",
            "51  \t0.0496  \t0.9943  \t0.7081\n",
            "52  \t0.0502  \t0.9971  \t0.7500\n",
            "53  \t0.0408  \t1.0000  \t0.7400\n",
            "54  \t0.0466  \t0.9983  \t0.6690\n",
            "55  \t0.0345  \t1.0000  \t0.7214\n",
            "56  \t0.0463  \t1.0000  \t0.7333\n",
            "57  \t0.0248  \t1.0000  \t0.7314\n",
            "58  \t0.0139  \t1.0000  \t0.7567\n",
            "59  \t0.0094  \t1.0000  \t0.7533\n",
            "60  \t0.0152  \t1.0000  \t0.7619\n",
            "Learning Finished!\n"
          ]
        }
      ]
    },
    {
      "cell_type": "code",
      "metadata": {
        "id": "jHnz_IrJykNN",
        "colab": {
          "base_uri": "https://localhost:8080/"
        },
        "outputId": "b64fb936-642f-4c39-cd17-ccd65083264c"
      },
      "source": [
        "conf_mat = [[0]*7 for i in range(7)] #mat[real_label]=predicted_label list\n",
        "\n",
        "for images, labels in mel_test_dataset:\n",
        "  logits = model(images, training=False)\n",
        "  logits_max = tf.math.argmax(logits,1)\n",
        "  labels_max = tf.math.argmax(labels,1)\n",
        "  for i in range(len(logits)): conf_mat[labels_max[i]][logits_max[i]]+=1\n",
        "\n",
        "for i in range(7): print(conf_mat[i])"
      ],
      "execution_count": null,
      "outputs": [
        {
          "output_type": "stream",
          "name": "stdout",
          "text": [
            "[46, 0, 0, 0, 2, 0, 0]\n",
            "[0, 24, 2, 0, 1, 5, 4]\n",
            "[5, 0, 18, 1, 0, 1, 4]\n",
            "[7, 2, 0, 7, 3, 2, 5]\n",
            "[7, 0, 7, 1, 6, 0, 3]\n",
            "[0, 4, 1, 1, 0, 37, 0]\n",
            "[1, 4, 1, 0, 0, 0, 16]\n"
          ]
        }
      ]
    },
    {
      "cell_type": "code",
      "metadata": {
        "colab": {
          "base_uri": "https://localhost:8080/"
        },
        "id": "uRQFL0_RYqVU",
        "outputId": "c0c7951d-a1c9-4574-d41f-dae5505f59b8"
      },
      "source": [
        "conf_mat_normal = []\n",
        "for i in range(7):\n",
        "  s = sum(conf_mat[i])\n",
        "  conf_mat_normal.append(list(map(lambda x:(x/s)*100, conf_mat[i])))\n",
        "\n",
        "label = ['anger','boredom','disgust','fear','happy','sad','neutral']\n",
        "print('\\t'+'\\t'.join(label))\n",
        "for i in range(7):\n",
        "  print(label[i], end='')\n",
        "  for j in range(7): print('\\t%2.0f'%conf_mat_normal[i][j], end=' ')\n",
        "  print()"
      ],
      "execution_count": null,
      "outputs": [
        {
          "output_type": "stream",
          "name": "stdout",
          "text": [
            "\tanger\tboredom\tdisgust\tfear\thappy\tsad\tneutral\n",
            "anger\t96 \t 0 \t 0 \t 0 \t 4 \t 0 \t 0 \n",
            "boredom\t 0 \t67 \t 6 \t 0 \t 3 \t14 \t11 \n",
            "disgust\t17 \t 0 \t62 \t 3 \t 0 \t 3 \t14 \n",
            "fear\t27 \t 8 \t 0 \t27 \t12 \t 8 \t19 \n",
            "happy\t29 \t 0 \t29 \t 4 \t25 \t 0 \t12 \n",
            "sad\t 0 \t 9 \t 2 \t 2 \t 0 \t86 \t 0 \n",
            "neutral\t 5 \t18 \t 5 \t 0 \t 0 \t 0 \t73 \n"
          ]
        }
      ]
    },
    {
      "cell_type": "code",
      "metadata": {
        "id": "VN8pw0J-6TBl"
      },
      "source": [
        ""
      ],
      "execution_count": null,
      "outputs": []
    }
  ]
}